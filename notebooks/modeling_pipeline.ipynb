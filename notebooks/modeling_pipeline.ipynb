{
 "cells": [
  {
   "cell_type": "code",
   "execution_count": 1,
   "id": "editorial-cross",
   "metadata": {},
   "outputs": [],
   "source": [
    "import os\n",
    "\n",
    "import numpy as np\n",
    "import pandas as pd\n",
    "import shap\n",
    "import xgboost as xgb\n",
    "from sklearn.preprocessing import StandardScaler\n",
    "\n",
    "import mgitools.os_helpers as os_helpers"
   ]
  },
  {
   "cell_type": "code",
   "execution_count": 2,
   "id": "british-johns",
   "metadata": {},
   "outputs": [],
   "source": [
    "import matplotlib\n",
    "matplotlib.rcParams['pdf.fonttype'] = 42\n",
    "matplotlib.rcParams['ps.fonttype'] = 42"
   ]
  },
  {
   "cell_type": "code",
   "execution_count": 3,
   "id": "broadband-winner",
   "metadata": {},
   "outputs": [],
   "source": [
    "result_dir = '../results/01282021_new'\n",
    "from pathlib import Path\n",
    "Path(result_dir).mkdir(parents=True, exist_ok=True)"
   ]
  },
  {
   "cell_type": "code",
   "execution_count": 4,
   "id": "russian-maldives",
   "metadata": {},
   "outputs": [],
   "source": [
    "combined_fp = '../data/formatted/aggregated_01282022.txt.gz'"
   ]
  },
  {
   "cell_type": "code",
   "execution_count": 5,
   "id": "pacific-mount",
   "metadata": {},
   "outputs": [
    {
     "name": "stderr",
     "output_type": "stream",
     "text": [
      "Columns (37081) have mixed types.Specify dtype option on import or set low_memory=False.\n"
     ]
    }
   ],
   "source": [
    "combined = pd.read_csv(combined_fp, sep='\\t', index_col=0)"
   ]
  },
  {
   "cell_type": "code",
   "execution_count": 6,
   "id": "seasonal-suicide",
   "metadata": {},
   "outputs": [
    {
     "data": {
      "text/html": [
       "<div>\n",
       "<style scoped>\n",
       "    .dataframe tbody tr th:only-of-type {\n",
       "        vertical-align: middle;\n",
       "    }\n",
       "\n",
       "    .dataframe tbody tr th {\n",
       "        vertical-align: top;\n",
       "    }\n",
       "\n",
       "    .dataframe thead th {\n",
       "        text-align: right;\n",
       "    }\n",
       "</style>\n",
       "<table border=\"1\" class=\"dataframe\">\n",
       "  <thead>\n",
       "    <tr style=\"text-align: right;\">\n",
       "      <th></th>\n",
       "      <th>Gene</th>\n",
       "      <th>Tumor suppressor or oncogene prediction (by 20/20+)</th>\n",
       "    </tr>\n",
       "  </thead>\n",
       "  <tbody>\n",
       "    <tr>\n",
       "      <th>0</th>\n",
       "      <td>PHF6</td>\n",
       "      <td>possible tsg</td>\n",
       "    </tr>\n",
       "    <tr>\n",
       "      <th>1</th>\n",
       "      <td>ABL1</td>\n",
       "      <td>NaN</td>\n",
       "    </tr>\n",
       "    <tr>\n",
       "      <th>2</th>\n",
       "      <td>ALK</td>\n",
       "      <td>NaN</td>\n",
       "    </tr>\n",
       "    <tr>\n",
       "      <th>3</th>\n",
       "      <td>AR</td>\n",
       "      <td>NaN</td>\n",
       "    </tr>\n",
       "    <tr>\n",
       "      <th>4</th>\n",
       "      <td>ARAF</td>\n",
       "      <td>NaN</td>\n",
       "    </tr>\n",
       "    <tr>\n",
       "      <th>...</th>\n",
       "      <td>...</td>\n",
       "      <td>...</td>\n",
       "    </tr>\n",
       "    <tr>\n",
       "      <th>183</th>\n",
       "      <td>KMT2A</td>\n",
       "      <td>tsg</td>\n",
       "    </tr>\n",
       "    <tr>\n",
       "      <th>184</th>\n",
       "      <td>KMT2B</td>\n",
       "      <td>tsg</td>\n",
       "    </tr>\n",
       "    <tr>\n",
       "      <th>185</th>\n",
       "      <td>MAX</td>\n",
       "      <td>oncogene</td>\n",
       "    </tr>\n",
       "    <tr>\n",
       "      <th>186</th>\n",
       "      <td>MED12</td>\n",
       "      <td>oncogene</td>\n",
       "    </tr>\n",
       "    <tr>\n",
       "      <th>187</th>\n",
       "      <td>MEN1</td>\n",
       "      <td>tsg</td>\n",
       "    </tr>\n",
       "  </tbody>\n",
       "</table>\n",
       "<p>188 rows × 2 columns</p>\n",
       "</div>"
      ],
      "text/plain": [
       "      Gene Tumor suppressor or oncogene prediction (by 20/20+)\n",
       "0     PHF6                                       possible tsg \n",
       "1     ABL1                                                NaN \n",
       "2      ALK                                                NaN \n",
       "3       AR                                                NaN \n",
       "4     ARAF                                                NaN \n",
       "..     ...                                                ... \n",
       "183  KMT2A                                                tsg \n",
       "184  KMT2B                                                tsg \n",
       "185    MAX                                           oncogene \n",
       "186  MED12                                           oncogene \n",
       "187   MEN1                                                tsg \n",
       "\n",
       "[188 rows x 2 columns]"
      ]
     },
     "execution_count": 6,
     "metadata": {},
     "output_type": "execute_result"
    }
   ],
   "source": [
    "d = pd.read_csv('../data/new/199_driver_genes.txt', sep='\\t')\n",
    "d"
   ]
  },
  {
   "cell_type": "code",
   "execution_count": 7,
   "id": "endangered-guatemala",
   "metadata": {},
   "outputs": [],
   "source": [
    "target_genes = sorted(set(d['Gene']))"
   ]
  },
  {
   "cell_type": "markdown",
   "id": "portable-flood",
   "metadata": {},
   "source": [
    "###### protein pairs"
   ]
  },
  {
   "cell_type": "code",
   "execution_count": 8,
   "id": "green-knowing",
   "metadata": {},
   "outputs": [
    {
     "data": {
      "text/html": [
       "<div>\n",
       "<style scoped>\n",
       "    .dataframe tbody tr th:only-of-type {\n",
       "        vertical-align: middle;\n",
       "    }\n",
       "\n",
       "    .dataframe tbody tr th {\n",
       "        vertical-align: top;\n",
       "    }\n",
       "\n",
       "    .dataframe thead th {\n",
       "        text-align: right;\n",
       "    }\n",
       "</style>\n",
       "<table border=\"1\" class=\"dataframe\">\n",
       "  <thead>\n",
       "    <tr style=\"text-align: right;\">\n",
       "      <th></th>\n",
       "      <th>GENE</th>\n",
       "      <th>SUB_GENE</th>\n",
       "      <th>pair_pro</th>\n",
       "      <th>SUB_GENE.is_TF_downstream</th>\n",
       "      <th>SUB_GENE.is_TF_upstream</th>\n",
       "      <th>SUB_GENE.is_kinase_substrate</th>\n",
       "      <th>SUB_GENE.is_phosphatase_substrate</th>\n",
       "      <th>SUB_GENE.is_upstream_kinase</th>\n",
       "      <th>SUB_GENE.is_upstream_phosphatase</th>\n",
       "      <th>SUB_GENE.is_complex_partner</th>\n",
       "    </tr>\n",
       "  </thead>\n",
       "  <tbody>\n",
       "    <tr>\n",
       "      <th>0</th>\n",
       "      <td>TP53</td>\n",
       "      <td>CDKN1A</td>\n",
       "      <td>TP53:CDKN1A</td>\n",
       "      <td>True</td>\n",
       "      <td>False</td>\n",
       "      <td>False</td>\n",
       "      <td>False</td>\n",
       "      <td>False</td>\n",
       "      <td>False</td>\n",
       "      <td>False</td>\n",
       "    </tr>\n",
       "    <tr>\n",
       "      <th>1</th>\n",
       "      <td>TP53</td>\n",
       "      <td>SIAH1</td>\n",
       "      <td>TP53:SIAH1</td>\n",
       "      <td>True</td>\n",
       "      <td>False</td>\n",
       "      <td>False</td>\n",
       "      <td>False</td>\n",
       "      <td>False</td>\n",
       "      <td>False</td>\n",
       "      <td>False</td>\n",
       "    </tr>\n",
       "    <tr>\n",
       "      <th>2</th>\n",
       "      <td>TP53</td>\n",
       "      <td>SFN</td>\n",
       "      <td>TP53:SFN</td>\n",
       "      <td>True</td>\n",
       "      <td>False</td>\n",
       "      <td>False</td>\n",
       "      <td>False</td>\n",
       "      <td>False</td>\n",
       "      <td>False</td>\n",
       "      <td>False</td>\n",
       "    </tr>\n",
       "    <tr>\n",
       "      <th>3</th>\n",
       "      <td>TP53</td>\n",
       "      <td>RPRM</td>\n",
       "      <td>TP53:RPRM</td>\n",
       "      <td>True</td>\n",
       "      <td>False</td>\n",
       "      <td>False</td>\n",
       "      <td>False</td>\n",
       "      <td>False</td>\n",
       "      <td>False</td>\n",
       "      <td>False</td>\n",
       "    </tr>\n",
       "    <tr>\n",
       "      <th>4</th>\n",
       "      <td>TP53</td>\n",
       "      <td>GADD45A</td>\n",
       "      <td>TP53:GADD45A</td>\n",
       "      <td>True</td>\n",
       "      <td>False</td>\n",
       "      <td>False</td>\n",
       "      <td>False</td>\n",
       "      <td>False</td>\n",
       "      <td>False</td>\n",
       "      <td>False</td>\n",
       "    </tr>\n",
       "    <tr>\n",
       "      <th>...</th>\n",
       "      <td>...</td>\n",
       "      <td>...</td>\n",
       "      <td>...</td>\n",
       "      <td>...</td>\n",
       "      <td>...</td>\n",
       "      <td>...</td>\n",
       "      <td>...</td>\n",
       "      <td>...</td>\n",
       "      <td>...</td>\n",
       "      <td>...</td>\n",
       "    </tr>\n",
       "    <tr>\n",
       "      <th>831929</th>\n",
       "      <td>SETD2</td>\n",
       "      <td>SETD2</td>\n",
       "      <td>SETD2:SETD2</td>\n",
       "      <td>False</td>\n",
       "      <td>False</td>\n",
       "      <td>False</td>\n",
       "      <td>False</td>\n",
       "      <td>False</td>\n",
       "      <td>False</td>\n",
       "      <td>False</td>\n",
       "    </tr>\n",
       "    <tr>\n",
       "      <th>831930</th>\n",
       "      <td>PUMA</td>\n",
       "      <td>PUMA</td>\n",
       "      <td>PUMA:PUMA</td>\n",
       "      <td>False</td>\n",
       "      <td>False</td>\n",
       "      <td>False</td>\n",
       "      <td>False</td>\n",
       "      <td>False</td>\n",
       "      <td>False</td>\n",
       "      <td>False</td>\n",
       "    </tr>\n",
       "    <tr>\n",
       "      <th>831931</th>\n",
       "      <td>NOXA</td>\n",
       "      <td>NOXA</td>\n",
       "      <td>NOXA:NOXA</td>\n",
       "      <td>False</td>\n",
       "      <td>False</td>\n",
       "      <td>False</td>\n",
       "      <td>False</td>\n",
       "      <td>False</td>\n",
       "      <td>False</td>\n",
       "      <td>False</td>\n",
       "    </tr>\n",
       "    <tr>\n",
       "      <th>831932</th>\n",
       "      <td>FOXR2</td>\n",
       "      <td>FOXR2</td>\n",
       "      <td>FOXR2:FOXR2</td>\n",
       "      <td>False</td>\n",
       "      <td>False</td>\n",
       "      <td>False</td>\n",
       "      <td>False</td>\n",
       "      <td>False</td>\n",
       "      <td>False</td>\n",
       "      <td>False</td>\n",
       "    </tr>\n",
       "    <tr>\n",
       "      <th>831933</th>\n",
       "      <td>SCO2</td>\n",
       "      <td>SCO2</td>\n",
       "      <td>SCO2:SCO2</td>\n",
       "      <td>False</td>\n",
       "      <td>False</td>\n",
       "      <td>False</td>\n",
       "      <td>False</td>\n",
       "      <td>False</td>\n",
       "      <td>False</td>\n",
       "      <td>False</td>\n",
       "    </tr>\n",
       "  </tbody>\n",
       "</table>\n",
       "<p>831934 rows × 10 columns</p>\n",
       "</div>"
      ],
      "text/plain": [
       "         GENE SUB_GENE      pair_pro  SUB_GENE.is_TF_downstream  \\\n",
       "0        TP53   CDKN1A   TP53:CDKN1A                       True   \n",
       "1        TP53    SIAH1    TP53:SIAH1                       True   \n",
       "2        TP53      SFN      TP53:SFN                       True   \n",
       "3        TP53     RPRM     TP53:RPRM                       True   \n",
       "4        TP53  GADD45A  TP53:GADD45A                       True   \n",
       "...       ...      ...           ...                        ...   \n",
       "831929  SETD2    SETD2   SETD2:SETD2                      False   \n",
       "831930   PUMA     PUMA     PUMA:PUMA                      False   \n",
       "831931   NOXA     NOXA     NOXA:NOXA                      False   \n",
       "831932  FOXR2    FOXR2   FOXR2:FOXR2                      False   \n",
       "831933   SCO2     SCO2     SCO2:SCO2                      False   \n",
       "\n",
       "        SUB_GENE.is_TF_upstream  SUB_GENE.is_kinase_substrate  \\\n",
       "0                         False                         False   \n",
       "1                         False                         False   \n",
       "2                         False                         False   \n",
       "3                         False                         False   \n",
       "4                         False                         False   \n",
       "...                         ...                           ...   \n",
       "831929                    False                         False   \n",
       "831930                    False                         False   \n",
       "831931                    False                         False   \n",
       "831932                    False                         False   \n",
       "831933                    False                         False   \n",
       "\n",
       "        SUB_GENE.is_phosphatase_substrate  SUB_GENE.is_upstream_kinase  \\\n",
       "0                                   False                        False   \n",
       "1                                   False                        False   \n",
       "2                                   False                        False   \n",
       "3                                   False                        False   \n",
       "4                                   False                        False   \n",
       "...                                   ...                          ...   \n",
       "831929                              False                        False   \n",
       "831930                              False                        False   \n",
       "831931                              False                        False   \n",
       "831932                              False                        False   \n",
       "831933                              False                        False   \n",
       "\n",
       "        SUB_GENE.is_upstream_phosphatase  SUB_GENE.is_complex_partner  \n",
       "0                                  False                        False  \n",
       "1                                  False                        False  \n",
       "2                                  False                        False  \n",
       "3                                  False                        False  \n",
       "4                                  False                        False  \n",
       "...                                  ...                          ...  \n",
       "831929                             False                        False  \n",
       "831930                             False                        False  \n",
       "831931                             False                        False  \n",
       "831932                             False                        False  \n",
       "831933                             False                        False  \n",
       "\n",
       "[831934 rows x 10 columns]"
      ]
     },
     "execution_count": 8,
     "metadata": {},
     "output_type": "execute_result"
    }
   ],
   "source": [
    "pathways = pd.read_csv('../data/new/protein_pair_table_v2.txt', sep='\\t')\n",
    "pathways"
   ]
  },
  {
   "cell_type": "code",
   "execution_count": 9,
   "id": "invisible-telescope",
   "metadata": {
    "scrolled": true
   },
   "outputs": [
    {
     "data": {
      "text/html": [
       "<div>\n",
       "<style scoped>\n",
       "    .dataframe tbody tr th:only-of-type {\n",
       "        vertical-align: middle;\n",
       "    }\n",
       "\n",
       "    .dataframe tbody tr th {\n",
       "        vertical-align: top;\n",
       "    }\n",
       "\n",
       "    .dataframe thead th {\n",
       "        text-align: right;\n",
       "    }\n",
       "</style>\n",
       "<table border=\"1\" class=\"dataframe\">\n",
       "  <thead>\n",
       "    <tr style=\"text-align: right;\">\n",
       "      <th></th>\n",
       "      <th>GENE</th>\n",
       "      <th>SUB_GENE</th>\n",
       "      <th>pair_pro</th>\n",
       "      <th>SUB_GENE.is_TF_downstream</th>\n",
       "      <th>SUB_GENE.is_TF_upstream</th>\n",
       "      <th>SUB_GENE.is_kinase_substrate</th>\n",
       "      <th>SUB_GENE.is_phosphatase_substrate</th>\n",
       "      <th>SUB_GENE.is_upstream_kinase</th>\n",
       "      <th>SUB_GENE.is_upstream_phosphatase</th>\n",
       "      <th>SUB_GENE.is_complex_partner</th>\n",
       "    </tr>\n",
       "  </thead>\n",
       "  <tbody>\n",
       "    <tr>\n",
       "      <th>0</th>\n",
       "      <td>TP53</td>\n",
       "      <td>CDKN1A</td>\n",
       "      <td>TP53:CDKN1A</td>\n",
       "      <td>True</td>\n",
       "      <td>False</td>\n",
       "      <td>False</td>\n",
       "      <td>False</td>\n",
       "      <td>False</td>\n",
       "      <td>False</td>\n",
       "      <td>False</td>\n",
       "    </tr>\n",
       "    <tr>\n",
       "      <th>1</th>\n",
       "      <td>TP53</td>\n",
       "      <td>SIAH1</td>\n",
       "      <td>TP53:SIAH1</td>\n",
       "      <td>True</td>\n",
       "      <td>False</td>\n",
       "      <td>False</td>\n",
       "      <td>False</td>\n",
       "      <td>False</td>\n",
       "      <td>False</td>\n",
       "      <td>False</td>\n",
       "    </tr>\n",
       "    <tr>\n",
       "      <th>2</th>\n",
       "      <td>TP53</td>\n",
       "      <td>SFN</td>\n",
       "      <td>TP53:SFN</td>\n",
       "      <td>True</td>\n",
       "      <td>False</td>\n",
       "      <td>False</td>\n",
       "      <td>False</td>\n",
       "      <td>False</td>\n",
       "      <td>False</td>\n",
       "      <td>False</td>\n",
       "    </tr>\n",
       "    <tr>\n",
       "      <th>3</th>\n",
       "      <td>TP53</td>\n",
       "      <td>RPRM</td>\n",
       "      <td>TP53:RPRM</td>\n",
       "      <td>True</td>\n",
       "      <td>False</td>\n",
       "      <td>False</td>\n",
       "      <td>False</td>\n",
       "      <td>False</td>\n",
       "      <td>False</td>\n",
       "      <td>False</td>\n",
       "    </tr>\n",
       "    <tr>\n",
       "      <th>4</th>\n",
       "      <td>TP53</td>\n",
       "      <td>GADD45A</td>\n",
       "      <td>TP53:GADD45A</td>\n",
       "      <td>True</td>\n",
       "      <td>False</td>\n",
       "      <td>False</td>\n",
       "      <td>False</td>\n",
       "      <td>False</td>\n",
       "      <td>False</td>\n",
       "      <td>False</td>\n",
       "    </tr>\n",
       "    <tr>\n",
       "      <th>...</th>\n",
       "      <td>...</td>\n",
       "      <td>...</td>\n",
       "      <td>...</td>\n",
       "      <td>...</td>\n",
       "      <td>...</td>\n",
       "      <td>...</td>\n",
       "      <td>...</td>\n",
       "      <td>...</td>\n",
       "      <td>...</td>\n",
       "      <td>...</td>\n",
       "    </tr>\n",
       "    <tr>\n",
       "      <th>830817</th>\n",
       "      <td>IDH1</td>\n",
       "      <td>IDH1</td>\n",
       "      <td>IDH1:IDH1</td>\n",
       "      <td>False</td>\n",
       "      <td>False</td>\n",
       "      <td>False</td>\n",
       "      <td>False</td>\n",
       "      <td>False</td>\n",
       "      <td>False</td>\n",
       "      <td>False</td>\n",
       "    </tr>\n",
       "    <tr>\n",
       "      <th>831488</th>\n",
       "      <td>BCOR</td>\n",
       "      <td>BCOR</td>\n",
       "      <td>BCOR:BCOR</td>\n",
       "      <td>False</td>\n",
       "      <td>False</td>\n",
       "      <td>False</td>\n",
       "      <td>False</td>\n",
       "      <td>False</td>\n",
       "      <td>False</td>\n",
       "      <td>False</td>\n",
       "    </tr>\n",
       "    <tr>\n",
       "      <th>831552</th>\n",
       "      <td>ATRX</td>\n",
       "      <td>ATRX</td>\n",
       "      <td>ATRX:ATRX</td>\n",
       "      <td>False</td>\n",
       "      <td>False</td>\n",
       "      <td>False</td>\n",
       "      <td>False</td>\n",
       "      <td>False</td>\n",
       "      <td>False</td>\n",
       "      <td>False</td>\n",
       "    </tr>\n",
       "    <tr>\n",
       "      <th>831798</th>\n",
       "      <td>RQCD1</td>\n",
       "      <td>RQCD1</td>\n",
       "      <td>RQCD1:RQCD1</td>\n",
       "      <td>False</td>\n",
       "      <td>False</td>\n",
       "      <td>False</td>\n",
       "      <td>False</td>\n",
       "      <td>False</td>\n",
       "      <td>False</td>\n",
       "      <td>False</td>\n",
       "    </tr>\n",
       "    <tr>\n",
       "      <th>831929</th>\n",
       "      <td>SETD2</td>\n",
       "      <td>SETD2</td>\n",
       "      <td>SETD2:SETD2</td>\n",
       "      <td>False</td>\n",
       "      <td>False</td>\n",
       "      <td>False</td>\n",
       "      <td>False</td>\n",
       "      <td>False</td>\n",
       "      <td>False</td>\n",
       "      <td>False</td>\n",
       "    </tr>\n",
       "  </tbody>\n",
       "</table>\n",
       "<p>18097 rows × 10 columns</p>\n",
       "</div>"
      ],
      "text/plain": [
       "         GENE SUB_GENE      pair_pro  SUB_GENE.is_TF_downstream  \\\n",
       "0        TP53   CDKN1A   TP53:CDKN1A                       True   \n",
       "1        TP53    SIAH1    TP53:SIAH1                       True   \n",
       "2        TP53      SFN      TP53:SFN                       True   \n",
       "3        TP53     RPRM     TP53:RPRM                       True   \n",
       "4        TP53  GADD45A  TP53:GADD45A                       True   \n",
       "...       ...      ...           ...                        ...   \n",
       "830817   IDH1     IDH1     IDH1:IDH1                      False   \n",
       "831488   BCOR     BCOR     BCOR:BCOR                      False   \n",
       "831552   ATRX     ATRX     ATRX:ATRX                      False   \n",
       "831798  RQCD1    RQCD1   RQCD1:RQCD1                      False   \n",
       "831929  SETD2    SETD2   SETD2:SETD2                      False   \n",
       "\n",
       "        SUB_GENE.is_TF_upstream  SUB_GENE.is_kinase_substrate  \\\n",
       "0                         False                         False   \n",
       "1                         False                         False   \n",
       "2                         False                         False   \n",
       "3                         False                         False   \n",
       "4                         False                         False   \n",
       "...                         ...                           ...   \n",
       "830817                    False                         False   \n",
       "831488                    False                         False   \n",
       "831552                    False                         False   \n",
       "831798                    False                         False   \n",
       "831929                    False                         False   \n",
       "\n",
       "        SUB_GENE.is_phosphatase_substrate  SUB_GENE.is_upstream_kinase  \\\n",
       "0                                   False                        False   \n",
       "1                                   False                        False   \n",
       "2                                   False                        False   \n",
       "3                                   False                        False   \n",
       "4                                   False                        False   \n",
       "...                                   ...                          ...   \n",
       "830817                              False                        False   \n",
       "831488                              False                        False   \n",
       "831552                              False                        False   \n",
       "831798                              False                        False   \n",
       "831929                              False                        False   \n",
       "\n",
       "        SUB_GENE.is_upstream_phosphatase  SUB_GENE.is_complex_partner  \n",
       "0                                  False                        False  \n",
       "1                                  False                        False  \n",
       "2                                  False                        False  \n",
       "3                                  False                        False  \n",
       "4                                  False                        False  \n",
       "...                                  ...                          ...  \n",
       "830817                             False                        False  \n",
       "831488                             False                        False  \n",
       "831552                             False                        False  \n",
       "831798                             False                        False  \n",
       "831929                             False                        False  \n",
       "\n",
       "[18097 rows x 10 columns]"
      ]
     },
     "execution_count": 9,
     "metadata": {},
     "output_type": "execute_result"
    }
   ],
   "source": [
    "pathways[[True if g in target_genes else False\n",
    "         for g in pathways['GENE']]]"
   ]
  },
  {
   "cell_type": "code",
   "execution_count": 10,
   "id": "formal-freedom",
   "metadata": {},
   "outputs": [
    {
     "data": {
      "text/plain": [
       "('ABL1', 126)"
      ]
     },
     "execution_count": 10,
     "metadata": {},
     "output_type": "execute_result"
    }
   ],
   "source": [
    "gene_to_subgenes = {t:[g for g in sorted(set(pathways[pathways['GENE']==t]['SUB_GENE'])) if g != t]\n",
    "                    for t in target_genes}\n",
    "target_genes[0], len(gene_to_subgenes[target_genes[0]])"
   ]
  },
  {
   "cell_type": "code",
   "execution_count": 11,
   "id": "applied-african",
   "metadata": {},
   "outputs": [
    {
     "data": {
      "text/html": [
       "<div>\n",
       "<style scoped>\n",
       "    .dataframe tbody tr th:only-of-type {\n",
       "        vertical-align: middle;\n",
       "    }\n",
       "\n",
       "    .dataframe tbody tr th {\n",
       "        vertical-align: top;\n",
       "    }\n",
       "\n",
       "    .dataframe thead th {\n",
       "        text-align: right;\n",
       "    }\n",
       "</style>\n",
       "<table border=\"1\" class=\"dataframe\">\n",
       "  <thead>\n",
       "    <tr style=\"text-align: right;\">\n",
       "      <th></th>\n",
       "      <th>AAAS_proteome</th>\n",
       "      <th>AAK1_proteome</th>\n",
       "      <th>AATF_proteome</th>\n",
       "      <th>ABCA1_proteome</th>\n",
       "      <th>ABCA2_proteome</th>\n",
       "      <th>ABCB1_proteome</th>\n",
       "      <th>ABCB11_proteome</th>\n",
       "      <th>ABCC2_proteome</th>\n",
       "      <th>ABCC3_proteome</th>\n",
       "      <th>ABCE1_proteome</th>\n",
       "      <th>...</th>\n",
       "      <th>TOMM34_S186|TOMM34|NP_006800.2_S186s_1_1_186_186_phospho</th>\n",
       "      <th>XYLB_S354|XYLB|NP_001336107.1_S354s_1_1_354_354_phospho</th>\n",
       "      <th>NARS1_S88|NARS1|NP_004530.1_S88s_1_1_88_88_phospho</th>\n",
       "      <th>GPR65_S324|GPR65|NP_003599.2_S324s_1_1_324_324_phospho</th>\n",
       "      <th>DBI_S2|DBI|NP_001073331.1_S2s_1_1_2_2_phospho</th>\n",
       "      <th>SNRPD3_S2|SNRPD3|NP_001265585.1_S2s_1_1_2_2_phospho</th>\n",
       "      <th>RAB28_S207|RAB28|NP_001017979.1_S207s_1_1_207_207_phospho</th>\n",
       "      <th>FBXL7_S105|FBXL7|NP_036436.1_S105s_1_1_105_105_phospho</th>\n",
       "      <th>MAP3K14_S410|MAP3K14|NP_003945.2_S410s_1_1_410_410_phospho</th>\n",
       "      <th>UGGT2_S952|UGGT2|NP_064506.3_S952s_1_1_952_952_phospho</th>\n",
       "    </tr>\n",
       "  </thead>\n",
       "  <tbody>\n",
       "    <tr>\n",
       "      <th>01BR001-T</th>\n",
       "      <td>0.35140</td>\n",
       "      <td>-0.00390</td>\n",
       "      <td>1.10105</td>\n",
       "      <td>0.98196</td>\n",
       "      <td>NaN</td>\n",
       "      <td>NaN</td>\n",
       "      <td>NaN</td>\n",
       "      <td>NaN</td>\n",
       "      <td>-3.91029</td>\n",
       "      <td>1.12252</td>\n",
       "      <td>...</td>\n",
       "      <td>-0.21957</td>\n",
       "      <td>-2.064230</td>\n",
       "      <td>-1.22276</td>\n",
       "      <td>-0.40442</td>\n",
       "      <td>0.54564</td>\n",
       "      <td>0.875650</td>\n",
       "      <td>3.109490</td>\n",
       "      <td>-3.34221</td>\n",
       "      <td>-2.561220</td>\n",
       "      <td>-0.143310</td>\n",
       "    </tr>\n",
       "    <tr>\n",
       "      <th>01BR008-T</th>\n",
       "      <td>0.53624</td>\n",
       "      <td>-0.24927</td>\n",
       "      <td>1.54379</td>\n",
       "      <td>0.85463</td>\n",
       "      <td>NaN</td>\n",
       "      <td>NaN</td>\n",
       "      <td>NaN</td>\n",
       "      <td>NaN</td>\n",
       "      <td>-1.42230</td>\n",
       "      <td>0.51320</td>\n",
       "      <td>...</td>\n",
       "      <td>0.42100</td>\n",
       "      <td>-1.774430</td>\n",
       "      <td>-1.45275</td>\n",
       "      <td>2.80914</td>\n",
       "      <td>-2.57344</td>\n",
       "      <td>-0.250530</td>\n",
       "      <td>0.409140</td>\n",
       "      <td>-1.38308</td>\n",
       "      <td>-0.397280</td>\n",
       "      <td>1.701790</td>\n",
       "    </tr>\n",
       "    <tr>\n",
       "      <th>01BR009-T</th>\n",
       "      <td>-0.27902</td>\n",
       "      <td>-0.33482</td>\n",
       "      <td>0.69390</td>\n",
       "      <td>0.78852</td>\n",
       "      <td>NaN</td>\n",
       "      <td>NaN</td>\n",
       "      <td>NaN</td>\n",
       "      <td>NaN</td>\n",
       "      <td>-1.49698</td>\n",
       "      <td>-0.39790</td>\n",
       "      <td>...</td>\n",
       "      <td>-0.41210</td>\n",
       "      <td>-1.341260</td>\n",
       "      <td>-2.09601</td>\n",
       "      <td>-0.53712</td>\n",
       "      <td>1.80276</td>\n",
       "      <td>0.476930</td>\n",
       "      <td>1.350520</td>\n",
       "      <td>-1.68391</td>\n",
       "      <td>-1.756450</td>\n",
       "      <td>2.011120</td>\n",
       "    </tr>\n",
       "    <tr>\n",
       "      <th>01BR010-T</th>\n",
       "      <td>0.35560</td>\n",
       "      <td>-0.05965</td>\n",
       "      <td>-0.06194</td>\n",
       "      <td>-2.39742</td>\n",
       "      <td>NaN</td>\n",
       "      <td>NaN</td>\n",
       "      <td>NaN</td>\n",
       "      <td>4.85220</td>\n",
       "      <td>1.09662</td>\n",
       "      <td>-0.41295</td>\n",
       "      <td>...</td>\n",
       "      <td>-0.20548</td>\n",
       "      <td>-0.859580</td>\n",
       "      <td>-1.73799</td>\n",
       "      <td>-0.80625</td>\n",
       "      <td>-0.82664</td>\n",
       "      <td>0.986640</td>\n",
       "      <td>0.330970</td>\n",
       "      <td>1.13409</td>\n",
       "      <td>-0.707344</td>\n",
       "      <td>1.794460</td>\n",
       "    </tr>\n",
       "    <tr>\n",
       "      <th>01BR015-T</th>\n",
       "      <td>0.95351</td>\n",
       "      <td>-0.37789</td>\n",
       "      <td>-0.68548</td>\n",
       "      <td>-3.96565</td>\n",
       "      <td>NaN</td>\n",
       "      <td>NaN</td>\n",
       "      <td>NaN</td>\n",
       "      <td>NaN</td>\n",
       "      <td>-5.95178</td>\n",
       "      <td>0.12743</td>\n",
       "      <td>...</td>\n",
       "      <td>-0.10312</td>\n",
       "      <td>-1.371280</td>\n",
       "      <td>-1.56777</td>\n",
       "      <td>-0.28762</td>\n",
       "      <td>-0.17280</td>\n",
       "      <td>0.671700</td>\n",
       "      <td>0.437580</td>\n",
       "      <td>-1.53015</td>\n",
       "      <td>-1.262580</td>\n",
       "      <td>-2.419064</td>\n",
       "    </tr>\n",
       "    <tr>\n",
       "      <th>...</th>\n",
       "      <td>...</td>\n",
       "      <td>...</td>\n",
       "      <td>...</td>\n",
       "      <td>...</td>\n",
       "      <td>...</td>\n",
       "      <td>...</td>\n",
       "      <td>...</td>\n",
       "      <td>...</td>\n",
       "      <td>...</td>\n",
       "      <td>...</td>\n",
       "      <td>...</td>\n",
       "      <td>...</td>\n",
       "      <td>...</td>\n",
       "      <td>...</td>\n",
       "      <td>...</td>\n",
       "      <td>...</td>\n",
       "      <td>...</td>\n",
       "      <td>...</td>\n",
       "      <td>...</td>\n",
       "      <td>...</td>\n",
       "      <td>...</td>\n",
       "    </tr>\n",
       "    <tr>\n",
       "      <th>C3N-04280-T</th>\n",
       "      <td>-0.54060</td>\n",
       "      <td>0.28620</td>\n",
       "      <td>0.56570</td>\n",
       "      <td>-0.29791</td>\n",
       "      <td>NaN</td>\n",
       "      <td>NaN</td>\n",
       "      <td>NaN</td>\n",
       "      <td>NaN</td>\n",
       "      <td>NaN</td>\n",
       "      <td>0.45859</td>\n",
       "      <td>...</td>\n",
       "      <td>0.83508</td>\n",
       "      <td>-1.278484</td>\n",
       "      <td>-0.66452</td>\n",
       "      <td>-1.30025</td>\n",
       "      <td>0.42640</td>\n",
       "      <td>0.582466</td>\n",
       "      <td>1.899430</td>\n",
       "      <td>-0.80850</td>\n",
       "      <td>1.863990</td>\n",
       "      <td>-0.550450</td>\n",
       "    </tr>\n",
       "    <tr>\n",
       "      <th>C3N-04282-T</th>\n",
       "      <td>-0.38949</td>\n",
       "      <td>0.11637</td>\n",
       "      <td>0.56524</td>\n",
       "      <td>-1.92610</td>\n",
       "      <td>NaN</td>\n",
       "      <td>NaN</td>\n",
       "      <td>NaN</td>\n",
       "      <td>-1.70998</td>\n",
       "      <td>1.13998</td>\n",
       "      <td>-0.12112</td>\n",
       "      <td>...</td>\n",
       "      <td>-1.51760</td>\n",
       "      <td>0.610720</td>\n",
       "      <td>1.00393</td>\n",
       "      <td>-1.01017</td>\n",
       "      <td>-0.07182</td>\n",
       "      <td>-0.015610</td>\n",
       "      <td>-0.499620</td>\n",
       "      <td>-2.86815</td>\n",
       "      <td>0.521480</td>\n",
       "      <td>-0.113980</td>\n",
       "    </tr>\n",
       "    <tr>\n",
       "      <th>C3N-04283-T</th>\n",
       "      <td>0.38921</td>\n",
       "      <td>-0.15259</td>\n",
       "      <td>-0.18576</td>\n",
       "      <td>1.35119</td>\n",
       "      <td>NaN</td>\n",
       "      <td>NaN</td>\n",
       "      <td>0.25874</td>\n",
       "      <td>0.90227</td>\n",
       "      <td>0.31181</td>\n",
       "      <td>-0.05971</td>\n",
       "      <td>...</td>\n",
       "      <td>-1.09135</td>\n",
       "      <td>0.213746</td>\n",
       "      <td>-0.55999</td>\n",
       "      <td>-2.71406</td>\n",
       "      <td>-0.63692</td>\n",
       "      <td>0.084090</td>\n",
       "      <td>3.855510</td>\n",
       "      <td>-1.65134</td>\n",
       "      <td>0.883820</td>\n",
       "      <td>-0.814058</td>\n",
       "    </tr>\n",
       "    <tr>\n",
       "      <th>C3N-04284-T</th>\n",
       "      <td>0.76318</td>\n",
       "      <td>0.31274</td>\n",
       "      <td>0.45277</td>\n",
       "      <td>-1.21128</td>\n",
       "      <td>NaN</td>\n",
       "      <td>NaN</td>\n",
       "      <td>NaN</td>\n",
       "      <td>NaN</td>\n",
       "      <td>0.54146</td>\n",
       "      <td>1.09926</td>\n",
       "      <td>...</td>\n",
       "      <td>-0.26326</td>\n",
       "      <td>0.822460</td>\n",
       "      <td>1.72946</td>\n",
       "      <td>-1.00419</td>\n",
       "      <td>-1.34322</td>\n",
       "      <td>0.639012</td>\n",
       "      <td>-2.874184</td>\n",
       "      <td>-0.22867</td>\n",
       "      <td>-0.249884</td>\n",
       "      <td>-2.721020</td>\n",
       "    </tr>\n",
       "    <tr>\n",
       "      <th>C3N-04611-T</th>\n",
       "      <td>0.18528</td>\n",
       "      <td>1.05753</td>\n",
       "      <td>0.55167</td>\n",
       "      <td>-0.95969</td>\n",
       "      <td>NaN</td>\n",
       "      <td>NaN</td>\n",
       "      <td>NaN</td>\n",
       "      <td>NaN</td>\n",
       "      <td>NaN</td>\n",
       "      <td>-0.04788</td>\n",
       "      <td>...</td>\n",
       "      <td>1.82978</td>\n",
       "      <td>-0.024506</td>\n",
       "      <td>1.03303</td>\n",
       "      <td>1.17040</td>\n",
       "      <td>-0.66487</td>\n",
       "      <td>0.057700</td>\n",
       "      <td>1.074240</td>\n",
       "      <td>0.37502</td>\n",
       "      <td>1.397060</td>\n",
       "      <td>-0.035720</td>\n",
       "    </tr>\n",
       "  </tbody>\n",
       "</table>\n",
       "<p>1070 rows × 42079 columns</p>\n",
       "</div>"
      ],
      "text/plain": [
       "             AAAS_proteome  AAK1_proteome  AATF_proteome  ABCA1_proteome  \\\n",
       "01BR001-T          0.35140       -0.00390        1.10105         0.98196   \n",
       "01BR008-T          0.53624       -0.24927        1.54379         0.85463   \n",
       "01BR009-T         -0.27902       -0.33482        0.69390         0.78852   \n",
       "01BR010-T          0.35560       -0.05965       -0.06194        -2.39742   \n",
       "01BR015-T          0.95351       -0.37789       -0.68548        -3.96565   \n",
       "...                    ...            ...            ...             ...   \n",
       "C3N-04280-T       -0.54060        0.28620        0.56570        -0.29791   \n",
       "C3N-04282-T       -0.38949        0.11637        0.56524        -1.92610   \n",
       "C3N-04283-T        0.38921       -0.15259       -0.18576         1.35119   \n",
       "C3N-04284-T        0.76318        0.31274        0.45277        -1.21128   \n",
       "C3N-04611-T        0.18528        1.05753        0.55167        -0.95969   \n",
       "\n",
       "             ABCA2_proteome  ABCB1_proteome  ABCB11_proteome  ABCC2_proteome  \\\n",
       "01BR001-T               NaN             NaN              NaN             NaN   \n",
       "01BR008-T               NaN             NaN              NaN             NaN   \n",
       "01BR009-T               NaN             NaN              NaN             NaN   \n",
       "01BR010-T               NaN             NaN              NaN         4.85220   \n",
       "01BR015-T               NaN             NaN              NaN             NaN   \n",
       "...                     ...             ...              ...             ...   \n",
       "C3N-04280-T             NaN             NaN              NaN             NaN   \n",
       "C3N-04282-T             NaN             NaN              NaN        -1.70998   \n",
       "C3N-04283-T             NaN             NaN          0.25874         0.90227   \n",
       "C3N-04284-T             NaN             NaN              NaN             NaN   \n",
       "C3N-04611-T             NaN             NaN              NaN             NaN   \n",
       "\n",
       "             ABCC3_proteome  ABCE1_proteome  ...  \\\n",
       "01BR001-T          -3.91029         1.12252  ...   \n",
       "01BR008-T          -1.42230         0.51320  ...   \n",
       "01BR009-T          -1.49698        -0.39790  ...   \n",
       "01BR010-T           1.09662        -0.41295  ...   \n",
       "01BR015-T          -5.95178         0.12743  ...   \n",
       "...                     ...             ...  ...   \n",
       "C3N-04280-T             NaN         0.45859  ...   \n",
       "C3N-04282-T         1.13998        -0.12112  ...   \n",
       "C3N-04283-T         0.31181        -0.05971  ...   \n",
       "C3N-04284-T         0.54146         1.09926  ...   \n",
       "C3N-04611-T             NaN        -0.04788  ...   \n",
       "\n",
       "             TOMM34_S186|TOMM34|NP_006800.2_S186s_1_1_186_186_phospho  \\\n",
       "01BR001-T                                             -0.21957          \n",
       "01BR008-T                                              0.42100          \n",
       "01BR009-T                                             -0.41210          \n",
       "01BR010-T                                             -0.20548          \n",
       "01BR015-T                                             -0.10312          \n",
       "...                                                        ...          \n",
       "C3N-04280-T                                            0.83508          \n",
       "C3N-04282-T                                           -1.51760          \n",
       "C3N-04283-T                                           -1.09135          \n",
       "C3N-04284-T                                           -0.26326          \n",
       "C3N-04611-T                                            1.82978          \n",
       "\n",
       "             XYLB_S354|XYLB|NP_001336107.1_S354s_1_1_354_354_phospho  \\\n",
       "01BR001-T                                            -2.064230         \n",
       "01BR008-T                                            -1.774430         \n",
       "01BR009-T                                            -1.341260         \n",
       "01BR010-T                                            -0.859580         \n",
       "01BR015-T                                            -1.371280         \n",
       "...                                                        ...         \n",
       "C3N-04280-T                                          -1.278484         \n",
       "C3N-04282-T                                           0.610720         \n",
       "C3N-04283-T                                           0.213746         \n",
       "C3N-04284-T                                           0.822460         \n",
       "C3N-04611-T                                          -0.024506         \n",
       "\n",
       "             NARS1_S88|NARS1|NP_004530.1_S88s_1_1_88_88_phospho  \\\n",
       "01BR001-T                                             -1.22276    \n",
       "01BR008-T                                             -1.45275    \n",
       "01BR009-T                                             -2.09601    \n",
       "01BR010-T                                             -1.73799    \n",
       "01BR015-T                                             -1.56777    \n",
       "...                                                        ...    \n",
       "C3N-04280-T                                           -0.66452    \n",
       "C3N-04282-T                                            1.00393    \n",
       "C3N-04283-T                                           -0.55999    \n",
       "C3N-04284-T                                            1.72946    \n",
       "C3N-04611-T                                            1.03303    \n",
       "\n",
       "             GPR65_S324|GPR65|NP_003599.2_S324s_1_1_324_324_phospho  \\\n",
       "01BR001-T                                             -0.40442        \n",
       "01BR008-T                                              2.80914        \n",
       "01BR009-T                                             -0.53712        \n",
       "01BR010-T                                             -0.80625        \n",
       "01BR015-T                                             -0.28762        \n",
       "...                                                        ...        \n",
       "C3N-04280-T                                           -1.30025        \n",
       "C3N-04282-T                                           -1.01017        \n",
       "C3N-04283-T                                           -2.71406        \n",
       "C3N-04284-T                                           -1.00419        \n",
       "C3N-04611-T                                            1.17040        \n",
       "\n",
       "             DBI_S2|DBI|NP_001073331.1_S2s_1_1_2_2_phospho  \\\n",
       "01BR001-T                                          0.54564   \n",
       "01BR008-T                                         -2.57344   \n",
       "01BR009-T                                          1.80276   \n",
       "01BR010-T                                         -0.82664   \n",
       "01BR015-T                                         -0.17280   \n",
       "...                                                    ...   \n",
       "C3N-04280-T                                        0.42640   \n",
       "C3N-04282-T                                       -0.07182   \n",
       "C3N-04283-T                                       -0.63692   \n",
       "C3N-04284-T                                       -1.34322   \n",
       "C3N-04611-T                                       -0.66487   \n",
       "\n",
       "             SNRPD3_S2|SNRPD3|NP_001265585.1_S2s_1_1_2_2_phospho  \\\n",
       "01BR001-T                                             0.875650     \n",
       "01BR008-T                                            -0.250530     \n",
       "01BR009-T                                             0.476930     \n",
       "01BR010-T                                             0.986640     \n",
       "01BR015-T                                             0.671700     \n",
       "...                                                        ...     \n",
       "C3N-04280-T                                           0.582466     \n",
       "C3N-04282-T                                          -0.015610     \n",
       "C3N-04283-T                                           0.084090     \n",
       "C3N-04284-T                                           0.639012     \n",
       "C3N-04611-T                                           0.057700     \n",
       "\n",
       "             RAB28_S207|RAB28|NP_001017979.1_S207s_1_1_207_207_phospho  \\\n",
       "01BR001-T                                             3.109490           \n",
       "01BR008-T                                             0.409140           \n",
       "01BR009-T                                             1.350520           \n",
       "01BR010-T                                             0.330970           \n",
       "01BR015-T                                             0.437580           \n",
       "...                                                        ...           \n",
       "C3N-04280-T                                           1.899430           \n",
       "C3N-04282-T                                          -0.499620           \n",
       "C3N-04283-T                                           3.855510           \n",
       "C3N-04284-T                                          -2.874184           \n",
       "C3N-04611-T                                           1.074240           \n",
       "\n",
       "             FBXL7_S105|FBXL7|NP_036436.1_S105s_1_1_105_105_phospho  \\\n",
       "01BR001-T                                             -3.34221        \n",
       "01BR008-T                                             -1.38308        \n",
       "01BR009-T                                             -1.68391        \n",
       "01BR010-T                                              1.13409        \n",
       "01BR015-T                                             -1.53015        \n",
       "...                                                        ...        \n",
       "C3N-04280-T                                           -0.80850        \n",
       "C3N-04282-T                                           -2.86815        \n",
       "C3N-04283-T                                           -1.65134        \n",
       "C3N-04284-T                                           -0.22867        \n",
       "C3N-04611-T                                            0.37502        \n",
       "\n",
       "             MAP3K14_S410|MAP3K14|NP_003945.2_S410s_1_1_410_410_phospho  \\\n",
       "01BR001-T                                            -2.561220            \n",
       "01BR008-T                                            -0.397280            \n",
       "01BR009-T                                            -1.756450            \n",
       "01BR010-T                                            -0.707344            \n",
       "01BR015-T                                            -1.262580            \n",
       "...                                                        ...            \n",
       "C3N-04280-T                                           1.863990            \n",
       "C3N-04282-T                                           0.521480            \n",
       "C3N-04283-T                                           0.883820            \n",
       "C3N-04284-T                                          -0.249884            \n",
       "C3N-04611-T                                           1.397060            \n",
       "\n",
       "             UGGT2_S952|UGGT2|NP_064506.3_S952s_1_1_952_952_phospho  \n",
       "01BR001-T                                            -0.143310       \n",
       "01BR008-T                                             1.701790       \n",
       "01BR009-T                                             2.011120       \n",
       "01BR010-T                                             1.794460       \n",
       "01BR015-T                                            -2.419064       \n",
       "...                                                        ...       \n",
       "C3N-04280-T                                          -0.550450       \n",
       "C3N-04282-T                                          -0.113980       \n",
       "C3N-04283-T                                          -0.814058       \n",
       "C3N-04284-T                                          -2.721020       \n",
       "C3N-04611-T                                          -0.035720       \n",
       "\n",
       "[1070 rows x 42079 columns]"
      ]
     },
     "execution_count": 11,
     "metadata": {},
     "output_type": "execute_result"
    }
   ],
   "source": [
    "combined"
   ]
  },
  {
   "cell_type": "code",
   "execution_count": 12,
   "id": "progressive-semiconductor",
   "metadata": {
    "scrolled": true
   },
   "outputs": [
    {
     "data": {
      "text/plain": [
       "{'1',\n",
       " '2',\n",
       " '3',\n",
       " \"3'UTR\",\n",
       " '4',\n",
       " '5',\n",
       " \"5'Flank\",\n",
       " \"5'UTR\",\n",
       " '6',\n",
       " 'AFR',\n",
       " 'AMR',\n",
       " 'DETERMINE',\n",
       " 'Del',\n",
       " 'EAS',\n",
       " 'EUR',\n",
       " 'FRAME',\n",
       " 'INS',\n",
       " 'Ins',\n",
       " 'Intron',\n",
       " 'Mutation',\n",
       " 'RNA',\n",
       " 'SAS',\n",
       " 'SNP',\n",
       " 'Silent',\n",
       " 'Site',\n",
       " 'TumorPurity',\n",
       " 'age',\n",
       " 'cnv',\n",
       " 'disease',\n",
       " 'expression',\n",
       " 'female',\n",
       " 'germline',\n",
       " 'mutation',\n",
       " 'phospho',\n",
       " 'proteome'}"
      ]
     },
     "execution_count": 12,
     "metadata": {},
     "output_type": "execute_result"
    }
   ],
   "source": [
    "{c.split('_')[-1] for c in combined.columns}"
   ]
  },
  {
   "cell_type": "markdown",
   "id": "loved-calculation",
   "metadata": {},
   "source": [
    "#### train ols"
   ]
  },
  {
   "cell_type": "code",
   "execution_count": 13,
   "id": "sealed-retreat",
   "metadata": {},
   "outputs": [
    {
     "data": {
      "text/plain": [
       "Index(['AAAS_proteome', 'AAK1_proteome', 'AATF_proteome', 'ABCA1_proteome',\n",
       "       'ABCA2_proteome', 'ABCB1_proteome', 'ABCB11_proteome', 'ABCC2_proteome',\n",
       "       'ABCC3_proteome', 'ABCE1_proteome',\n",
       "       ...\n",
       "       'TOMM34_S186|TOMM34|NP_006800.2_S186s_1_1_186_186_phospho',\n",
       "       'XYLB_S354|XYLB|NP_001336107.1_S354s_1_1_354_354_phospho',\n",
       "       'NARS1_S88|NARS1|NP_004530.1_S88s_1_1_88_88_phospho',\n",
       "       'GPR65_S324|GPR65|NP_003599.2_S324s_1_1_324_324_phospho',\n",
       "       'DBI_S2|DBI|NP_001073331.1_S2s_1_1_2_2_phospho',\n",
       "       'SNRPD3_S2|SNRPD3|NP_001265585.1_S2s_1_1_2_2_phospho',\n",
       "       'RAB28_S207|RAB28|NP_001017979.1_S207s_1_1_207_207_phospho',\n",
       "       'FBXL7_S105|FBXL7|NP_036436.1_S105s_1_1_105_105_phospho',\n",
       "       'MAP3K14_S410|MAP3K14|NP_003945.2_S410s_1_1_410_410_phospho',\n",
       "       'UGGT2_S952|UGGT2|NP_064506.3_S952s_1_1_952_952_phospho'],\n",
       "      dtype='object', length=42079)"
      ]
     },
     "execution_count": 13,
     "metadata": {},
     "output_type": "execute_result"
    }
   ],
   "source": [
    "combined.columns"
   ]
  },
  {
   "cell_type": "code",
   "execution_count": 20,
   "id": "worthy-cleveland",
   "metadata": {},
   "outputs": [],
   "source": [
    "def get_data_for_pair(gene, subgene, combined, features=['cnv', 'is_mutated', 'is_pathogenic_germline'],\n",
    "                     standalone=['TumorPurity'], target='proteome', scale_features=['TumorPurity', 'cnv'],\n",
    "                     scale_y=False):\n",
    "    cols = [f'{gene}_{feat}' for feat in features]\n",
    "    cols += standalone\n",
    "    cols = sorted(set(cols))\n",
    "    \n",
    "    # check to make sure all columns are in X, if not then return None, None\n",
    "    if f'{subgene}_{target}' not in combined.columns:\n",
    "        return None, None\n",
    "    if len([x for x in cols if x not in combined.columns]):\n",
    "        return None, None\n",
    "    \n",
    "    # make training dataframe\n",
    "    X = combined[cols].copy()\n",
    "    y = combined[[f'{subgene}_{target}']].copy()\n",
    "    \n",
    "    # filter NA\n",
    "    X = X.dropna()\n",
    "    \n",
    "    # exit if empty\n",
    "    if not X.shape[0]:\n",
    "        return None, None\n",
    "    \n",
    "    to_scale = [c for c in cols for f in scale_features if f in c]\n",
    "    prev = X[[c for c in X.columns if c not in to_scale]]\n",
    "    \n",
    "    # scale features in scale_features\n",
    "    if to_scale:\n",
    "        scale = X[to_scale]\n",
    "        scale = pd.DataFrame(data=StandardScaler().fit_transform(scale.values), columns=scale.columns, index=scale.index)\n",
    "        X = pd.merge(scale, prev, left_index=True, right_index=True)\n",
    "    \n",
    "    # scale y if scale_y\n",
    "    if scale_y:\n",
    "        y = pd.DataFrame(data=StandardScaler().fit_transform(y.values), columns=y.columns, index=y.index)\n",
    "    \n",
    "    # if we aren't all numerical exit\n",
    "    try:\n",
    "        X = X.astype(np.float32)\n",
    "    except ValueError:\n",
    "        return None, None\n",
    "    \n",
    "    y = y.loc[X.index]\n",
    "    # make sure no y nulls\n",
    "    y = y.dropna()\n",
    "    X = X.loc[y.index]\n",
    "    \n",
    "    # replace with gene name so more readable\n",
    "    X.columns = [c.replace(gene, 'driver_gene') for c in X.columns]\n",
    "\n",
    "    return X, y\n",
    "    "
   ]
  },
  {
   "cell_type": "code",
   "execution_count": 21,
   "id": "expressed-theta",
   "metadata": {},
   "outputs": [],
   "source": [
    "import statsmodels.api as sm\n",
    "from patsy import dmatrices\n",
    "def run_ols(X, y):\n",
    "    ground = y.values.flatten()\n",
    "    df = pd.merge(X, y, left_index=True, right_index=True)\n",
    "\n",
    "    command = f'{y.columns[0]} ~ ' + ' + '.join(X.columns)\n",
    "    y_sm, X_sm = dmatrices(command, data=df, return_type='dataframe')\n",
    "    \n",
    "    model = sm.OLS(y_sm, X_sm)\n",
    "    results = model.fit()\n",
    "    \n",
    "    coef_df = pd.DataFrame.from_dict({'coef': results.params.to_list(),\n",
    "                           'p-value': results.pvalues.to_list()})\n",
    "    coef_df.index = results.params.index.to_list()\n",
    "    \n",
    "    return {'result': results, 'coef_df': coef_df, 'r-squared': results.rsquared_adj,\n",
    "           'r-squared p-value': results.f_pvalue, 'groundtruth': ground, 'predicted': results.fittedvalues.to_list(),\n",
    "           'features': results.params.index.to_list(), 'X': X, 'y': y}"
   ]
  },
  {
   "cell_type": "markdown",
   "id": "crude-short",
   "metadata": {},
   "source": [
    "select model parameters here"
   ]
  },
  {
   "cell_type": "markdown",
   "id": "broadband-queensland",
   "metadata": {},
   "source": [
    "['cnv', 'has_nonsilent_mutation', 'is_pathogenic_germline', 'TumorPurity', 'expression', 'proteome', 'phospho']\n"
   ]
  },
  {
   "cell_type": "code",
   "execution_count": 22,
   "id": "norman-public",
   "metadata": {},
   "outputs": [],
   "source": [
    "# features = []\n",
    "# standalone = ['TumorPurity',\n",
    "#  'clinical_is_tumor',\n",
    "#  'clinical_age',\n",
    "#  'clinical_is_female',\n",
    "#  'clinical_predicted_ancestry_is_AFR',\n",
    "#  'clinical_predicted_ancestry_is_AMR',\n",
    "#  'clinical_predicted_ancestry_is_EAS',\n",
    "#  'clinical_predicted_ancestry_is_EUR',\n",
    "#  'clinical_predicted_ancestry_is_SAS']\n",
    "# target = 'proteome'\n",
    "# scale_features = []\n",
    "# scale_y = False"
   ]
  },
  {
   "cell_type": "code",
   "execution_count": 51,
   "id": "hungarian-leader",
   "metadata": {},
   "outputs": [],
   "source": [
    "features = ['cnv', 'has_nonsilent_mutation']\n",
    "standalone = ['TumorPurity']\n",
    "target = 'phospho'\n",
    "scale_features = ['TumorPurity', 'cnv']\n",
    "scale_y = False"
   ]
  },
  {
   "cell_type": "code",
   "execution_count": 52,
   "id": "quality-calendar",
   "metadata": {},
   "outputs": [],
   "source": [
    "# features = ['cnv', 'has_nonsilent_mutation', 'is_pathogenic_germline']\n",
    "# standalone = ['TumorPurity']\n",
    "# target = 'expression'\n",
    "# scale_features = ['TumorPurity', 'cnv']\n",
    "# scale_y = False"
   ]
  },
  {
   "cell_type": "code",
   "execution_count": 53,
   "id": "legislative-retrieval",
   "metadata": {},
   "outputs": [],
   "source": [
    "# features = ['cnv', 'has_nonsilent_mutation', 'is_pathogenic_germline']\n",
    "# standalone = ['TumorPurity',\n",
    "#              'methylation_subtype_1',\n",
    "#              'methylation_subtype_2',\n",
    "#              'methylation_subtype_3',\n",
    "#              'methylation_subtype_4',\n",
    "#              'methylation_subtype_5',\n",
    "#              'methylation_subtype_6']\n",
    "# target = 'proteome'\n",
    "# scale_features = ['TumorPurity', 'cnv']\n",
    "# scale_y = False"
   ]
  },
  {
   "cell_type": "markdown",
   "id": "indian-middle",
   "metadata": {},
   "source": [
    "run this cell for proteome and expression target"
   ]
  },
  {
   "cell_type": "code",
   "execution_count": 40,
   "id": "parliamentary-funeral",
   "metadata": {
    "scrolled": true
   },
   "outputs": [
    {
     "name": "stdout",
     "output_type": "stream",
     "text": [
      "BR\n",
      "0 ABL1\n",
      "10 ARID1A\n",
      "20 BCL2\n"
     ]
    },
    {
     "name": "stderr",
     "output_type": "stream",
     "text": [
      "invalid value encountered in double_scalars\n",
      "invalid value encountered in double_scalars\n"
     ]
    },
    {
     "name": "stdout",
     "output_type": "stream",
     "text": [
      "30 CDK4\n",
      "40 CSDE1\n"
     ]
    },
    {
     "name": "stderr",
     "output_type": "stream",
     "text": [
      "invalid value encountered in double_scalars\n",
      "invalid value encountered in double_scalars\n",
      "invalid value encountered in double_scalars\n",
      "invalid value encountered in double_scalars\n",
      "invalid value encountered in double_scalars\n",
      "invalid value encountered in double_scalars\n"
     ]
    },
    {
     "name": "stdout",
     "output_type": "stream",
     "text": [
      "50 EGR3\n"
     ]
    },
    {
     "name": "stderr",
     "output_type": "stream",
     "text": [
      "invalid value encountered in double_scalars\n",
      "invalid value encountered in double_scalars\n"
     ]
    },
    {
     "name": "stdout",
     "output_type": "stream",
     "text": [
      "60 FAT1\n"
     ]
    },
    {
     "name": "stderr",
     "output_type": "stream",
     "text": [
      "invalid value encountered in double_scalars\n",
      "invalid value encountered in double_scalars\n"
     ]
    },
    {
     "name": "stdout",
     "output_type": "stream",
     "text": [
      "70 GNAQ\n"
     ]
    },
    {
     "name": "stderr",
     "output_type": "stream",
     "text": [
      "invalid value encountered in double_scalars\n",
      "invalid value encountered in double_scalars\n",
      "invalid value encountered in double_scalars\n",
      "invalid value encountered in double_scalars\n"
     ]
    },
    {
     "name": "stdout",
     "output_type": "stream",
     "text": [
      "80 IDH1\n",
      "90 KIF1A\n"
     ]
    },
    {
     "name": "stderr",
     "output_type": "stream",
     "text": [
      "invalid value encountered in double_scalars\n",
      "invalid value encountered in double_scalars\n"
     ]
    },
    {
     "name": "stdout",
     "output_type": "stream",
     "text": [
      "100 MACF1\n",
      "110 MGMT\n"
     ]
    },
    {
     "name": "stderr",
     "output_type": "stream",
     "text": [
      "invalid value encountered in double_scalars\n",
      "invalid value encountered in double_scalars\n"
     ]
    },
    {
     "name": "stdout",
     "output_type": "stream",
     "text": [
      "120 NFE2L2\n",
      "130 PHF6\n"
     ]
    },
    {
     "name": "stderr",
     "output_type": "stream",
     "text": [
      "invalid value encountered in double_scalars\n",
      "invalid value encountered in double_scalars\n"
     ]
    },
    {
     "name": "stdout",
     "output_type": "stream",
     "text": [
      "140 PPP2R1A\n"
     ]
    },
    {
     "name": "stderr",
     "output_type": "stream",
     "text": [
      "invalid value encountered in double_scalars\n",
      "invalid value encountered in double_scalars\n",
      "invalid value encountered in double_scalars\n",
      "invalid value encountered in double_scalars\n"
     ]
    },
    {
     "name": "stdout",
     "output_type": "stream",
     "text": [
      "150 RET\n",
      "160 SETD2\n"
     ]
    },
    {
     "name": "stderr",
     "output_type": "stream",
     "text": [
      "invalid value encountered in double_scalars\n",
      "invalid value encountered in double_scalars\n",
      "invalid value encountered in double_scalars\n",
      "invalid value encountered in double_scalars\n"
     ]
    },
    {
     "name": "stdout",
     "output_type": "stream",
     "text": [
      "170 STK11\n",
      "180 TP53\n"
     ]
    },
    {
     "name": "stderr",
     "output_type": "stream",
     "text": [
      "invalid value encountered in double_scalars\n",
      "invalid value encountered in double_scalars\n"
     ]
    },
    {
     "name": "stdout",
     "output_type": "stream",
     "text": [
      "CO\n",
      "0 ABL1\n"
     ]
    },
    {
     "name": "stderr",
     "output_type": "stream",
     "text": [
      "invalid value encountered in double_scalars\n",
      "invalid value encountered in double_scalars\n"
     ]
    },
    {
     "name": "stdout",
     "output_type": "stream",
     "text": [
      "10 ARID1A\n"
     ]
    },
    {
     "name": "stderr",
     "output_type": "stream",
     "text": [
      "invalid value encountered in double_scalars\n",
      "invalid value encountered in double_scalars\n",
      "invalid value encountered in double_scalars\n",
      "invalid value encountered in double_scalars\n"
     ]
    },
    {
     "name": "stdout",
     "output_type": "stream",
     "text": [
      "20 BCL2\n"
     ]
    },
    {
     "name": "stderr",
     "output_type": "stream",
     "text": [
      "invalid value encountered in double_scalars\n",
      "invalid value encountered in double_scalars\n",
      "invalid value encountered in double_scalars\n",
      "invalid value encountered in double_scalars\n"
     ]
    },
    {
     "name": "stdout",
     "output_type": "stream",
     "text": [
      "30 CDK4\n"
     ]
    },
    {
     "name": "stderr",
     "output_type": "stream",
     "text": [
      "invalid value encountered in double_scalars\n",
      "invalid value encountered in double_scalars\n",
      "invalid value encountered in double_scalars\n",
      "invalid value encountered in double_scalars\n",
      "invalid value encountered in double_scalars\n",
      "invalid value encountered in double_scalars\n",
      "invalid value encountered in double_scalars\n",
      "invalid value encountered in double_scalars\n"
     ]
    },
    {
     "name": "stdout",
     "output_type": "stream",
     "text": [
      "40 CSDE1\n"
     ]
    },
    {
     "name": "stderr",
     "output_type": "stream",
     "text": [
      "invalid value encountered in double_scalars\n",
      "invalid value encountered in double_scalars\n",
      "invalid value encountered in double_scalars\n",
      "invalid value encountered in double_scalars\n",
      "invalid value encountered in double_scalars\n",
      "invalid value encountered in double_scalars\n",
      "invalid value encountered in double_scalars\n",
      "invalid value encountered in double_scalars\n",
      "invalid value encountered in double_scalars\n",
      "invalid value encountered in double_scalars\n",
      "invalid value encountered in double_scalars\n",
      "invalid value encountered in double_scalars\n"
     ]
    },
    {
     "name": "stdout",
     "output_type": "stream",
     "text": [
      "50 EGR3\n"
     ]
    },
    {
     "name": "stderr",
     "output_type": "stream",
     "text": [
      "invalid value encountered in double_scalars\n",
      "invalid value encountered in double_scalars\n",
      "invalid value encountered in double_scalars\n",
      "invalid value encountered in double_scalars\n",
      "invalid value encountered in double_scalars\n",
      "invalid value encountered in double_scalars\n",
      "invalid value encountered in double_scalars\n",
      "invalid value encountered in double_scalars\n",
      "invalid value encountered in double_scalars\n",
      "invalid value encountered in double_scalars\n",
      "invalid value encountered in double_scalars\n",
      "invalid value encountered in double_scalars\n"
     ]
    },
    {
     "name": "stdout",
     "output_type": "stream",
     "text": [
      "60 FAT1\n"
     ]
    },
    {
     "name": "stderr",
     "output_type": "stream",
     "text": [
      "invalid value encountered in double_scalars\n",
      "invalid value encountered in double_scalars\n",
      "invalid value encountered in double_scalars\n",
      "invalid value encountered in double_scalars\n",
      "invalid value encountered in double_scalars\n",
      "invalid value encountered in double_scalars\n"
     ]
    },
    {
     "name": "stdout",
     "output_type": "stream",
     "text": [
      "70 GNAQ\n"
     ]
    },
    {
     "name": "stderr",
     "output_type": "stream",
     "text": [
      "invalid value encountered in double_scalars\n",
      "invalid value encountered in double_scalars\n",
      "invalid value encountered in double_scalars\n",
      "invalid value encountered in double_scalars\n",
      "invalid value encountered in double_scalars\n",
      "invalid value encountered in double_scalars\n",
      "invalid value encountered in double_scalars\n",
      "invalid value encountered in double_scalars\n",
      "invalid value encountered in double_scalars\n",
      "invalid value encountered in double_scalars\n",
      "invalid value encountered in double_scalars\n",
      "invalid value encountered in double_scalars\n",
      "invalid value encountered in double_scalars\n",
      "invalid value encountered in double_scalars\n",
      "invalid value encountered in double_scalars\n",
      "invalid value encountered in double_scalars\n"
     ]
    },
    {
     "name": "stdout",
     "output_type": "stream",
     "text": [
      "80 IDH1\n",
      "90 KIF1A\n"
     ]
    },
    {
     "name": "stderr",
     "output_type": "stream",
     "text": [
      "invalid value encountered in double_scalars\n",
      "invalid value encountered in double_scalars\n",
      "invalid value encountered in double_scalars\n",
      "invalid value encountered in double_scalars\n",
      "invalid value encountered in double_scalars\n",
      "invalid value encountered in double_scalars\n",
      "invalid value encountered in double_scalars\n",
      "invalid value encountered in double_scalars\n",
      "invalid value encountered in double_scalars\n",
      "invalid value encountered in double_scalars\n"
     ]
    },
    {
     "name": "stdout",
     "output_type": "stream",
     "text": [
      "100 MACF1\n",
      "110 MGMT\n"
     ]
    },
    {
     "name": "stderr",
     "output_type": "stream",
     "text": [
      "invalid value encountered in double_scalars\n",
      "invalid value encountered in double_scalars\n",
      "invalid value encountered in double_scalars\n",
      "invalid value encountered in double_scalars\n"
     ]
    },
    {
     "name": "stdout",
     "output_type": "stream",
     "text": [
      "120 NFE2L2\n"
     ]
    },
    {
     "name": "stderr",
     "output_type": "stream",
     "text": [
      "invalid value encountered in double_scalars\n",
      "invalid value encountered in double_scalars\n"
     ]
    },
    {
     "name": "stdout",
     "output_type": "stream",
     "text": [
      "130 PHF6\n"
     ]
    },
    {
     "name": "stderr",
     "output_type": "stream",
     "text": [
      "invalid value encountered in double_scalars\n",
      "invalid value encountered in double_scalars\n"
     ]
    },
    {
     "name": "stdout",
     "output_type": "stream",
     "text": [
      "140 PPP2R1A\n"
     ]
    },
    {
     "name": "stderr",
     "output_type": "stream",
     "text": [
      "invalid value encountered in double_scalars\n",
      "invalid value encountered in double_scalars\n",
      "invalid value encountered in double_scalars\n",
      "invalid value encountered in double_scalars\n",
      "invalid value encountered in double_scalars\n",
      "invalid value encountered in double_scalars\n",
      "invalid value encountered in double_scalars\n",
      "invalid value encountered in double_scalars\n"
     ]
    },
    {
     "name": "stdout",
     "output_type": "stream",
     "text": [
      "150 RET\n"
     ]
    },
    {
     "name": "stderr",
     "output_type": "stream",
     "text": [
      "invalid value encountered in double_scalars\n",
      "invalid value encountered in double_scalars\n",
      "invalid value encountered in double_scalars\n",
      "invalid value encountered in double_scalars\n"
     ]
    },
    {
     "name": "stdout",
     "output_type": "stream",
     "text": [
      "160 SETD2\n"
     ]
    },
    {
     "name": "stderr",
     "output_type": "stream",
     "text": [
      "invalid value encountered in double_scalars\n",
      "invalid value encountered in double_scalars\n",
      "invalid value encountered in double_scalars\n",
      "invalid value encountered in double_scalars\n",
      "invalid value encountered in double_scalars\n",
      "invalid value encountered in double_scalars\n",
      "invalid value encountered in double_scalars\n",
      "invalid value encountered in double_scalars\n"
     ]
    },
    {
     "name": "stdout",
     "output_type": "stream",
     "text": [
      "170 STK11\n",
      "180 TP53\n"
     ]
    },
    {
     "name": "stderr",
     "output_type": "stream",
     "text": [
      "invalid value encountered in double_scalars\n",
      "invalid value encountered in double_scalars\n",
      "invalid value encountered in double_scalars\n",
      "invalid value encountered in double_scalars\n"
     ]
    },
    {
     "name": "stdout",
     "output_type": "stream",
     "text": [
      "GBM\n",
      "0 ABL1\n",
      "10 ARID1A\n",
      "20 BCL2\n",
      "30 CDK4\n",
      "40 CSDE1\n"
     ]
    },
    {
     "name": "stderr",
     "output_type": "stream",
     "text": [
      "invalid value encountered in double_scalars\n",
      "invalid value encountered in double_scalars\n"
     ]
    },
    {
     "name": "stdout",
     "output_type": "stream",
     "text": [
      "50 EGR3\n",
      "60 FAT1\n"
     ]
    },
    {
     "name": "stderr",
     "output_type": "stream",
     "text": [
      "invalid value encountered in double_scalars\n",
      "invalid value encountered in double_scalars\n"
     ]
    },
    {
     "name": "stdout",
     "output_type": "stream",
     "text": [
      "70 GNAQ\n"
     ]
    },
    {
     "name": "stderr",
     "output_type": "stream",
     "text": [
      "invalid value encountered in double_scalars\n",
      "invalid value encountered in double_scalars\n",
      "invalid value encountered in double_scalars\n",
      "invalid value encountered in double_scalars\n"
     ]
    },
    {
     "name": "stdout",
     "output_type": "stream",
     "text": [
      "80 IDH1\n"
     ]
    },
    {
     "name": "stderr",
     "output_type": "stream",
     "text": [
      "invalid value encountered in double_scalars\n",
      "invalid value encountered in double_scalars\n"
     ]
    },
    {
     "name": "stdout",
     "output_type": "stream",
     "text": [
      "90 KIF1A\n",
      "100 MACF1\n",
      "110 MGMT\n",
      "120 NFE2L2\n",
      "130 PHF6\n"
     ]
    },
    {
     "name": "stderr",
     "output_type": "stream",
     "text": [
      "invalid value encountered in double_scalars\n",
      "invalid value encountered in double_scalars\n"
     ]
    },
    {
     "name": "stdout",
     "output_type": "stream",
     "text": [
      "140 PPP2R1A\n",
      "150 RET\n",
      "160 SETD2\n",
      "170 STK11\n",
      "180 TP53\n"
     ]
    },
    {
     "name": "stderr",
     "output_type": "stream",
     "text": [
      "invalid value encountered in double_scalars\n",
      "invalid value encountered in double_scalars\n"
     ]
    },
    {
     "name": "stdout",
     "output_type": "stream",
     "text": [
      "HNSCC\n",
      "0 ABL1\n",
      "10 ARID1A\n"
     ]
    },
    {
     "name": "stderr",
     "output_type": "stream",
     "text": [
      "invalid value encountered in double_scalars\n",
      "invalid value encountered in double_scalars\n"
     ]
    },
    {
     "name": "stdout",
     "output_type": "stream",
     "text": [
      "20 BCL2\n",
      "30 CDK4\n",
      "40 CSDE1\n"
     ]
    },
    {
     "name": "stderr",
     "output_type": "stream",
     "text": [
      "invalid value encountered in double_scalars\n",
      "invalid value encountered in double_scalars\n"
     ]
    },
    {
     "name": "stdout",
     "output_type": "stream",
     "text": [
      "50 EGR3\n",
      "60 FAT1\n"
     ]
    },
    {
     "name": "stderr",
     "output_type": "stream",
     "text": [
      "invalid value encountered in double_scalars\n",
      "invalid value encountered in double_scalars\n"
     ]
    },
    {
     "name": "stdout",
     "output_type": "stream",
     "text": [
      "70 GNAQ\n"
     ]
    },
    {
     "name": "stderr",
     "output_type": "stream",
     "text": [
      "invalid value encountered in double_scalars\n",
      "invalid value encountered in double_scalars\n"
     ]
    },
    {
     "name": "stdout",
     "output_type": "stream",
     "text": [
      "80 IDH1\n",
      "90 KIF1A\n"
     ]
    },
    {
     "name": "stderr",
     "output_type": "stream",
     "text": [
      "invalid value encountered in double_scalars\n",
      "invalid value encountered in double_scalars\n"
     ]
    },
    {
     "name": "stdout",
     "output_type": "stream",
     "text": [
      "100 MACF1\n",
      "110 MGMT\n",
      "120 NFE2L2\n",
      "130 PHF6\n"
     ]
    },
    {
     "name": "stderr",
     "output_type": "stream",
     "text": [
      "invalid value encountered in double_scalars\n",
      "invalid value encountered in double_scalars\n"
     ]
    },
    {
     "name": "stdout",
     "output_type": "stream",
     "text": [
      "140 PPP2R1A\n"
     ]
    },
    {
     "name": "stderr",
     "output_type": "stream",
     "text": [
      "invalid value encountered in double_scalars\n",
      "invalid value encountered in double_scalars\n",
      "invalid value encountered in double_scalars\n",
      "invalid value encountered in double_scalars\n"
     ]
    },
    {
     "name": "stdout",
     "output_type": "stream",
     "text": [
      "150 RET\n",
      "160 SETD2\n"
     ]
    },
    {
     "name": "stderr",
     "output_type": "stream",
     "text": [
      "invalid value encountered in double_scalars\n",
      "invalid value encountered in double_scalars\n"
     ]
    },
    {
     "name": "stdout",
     "output_type": "stream",
     "text": [
      "170 STK11\n",
      "180 TP53\n"
     ]
    },
    {
     "name": "stderr",
     "output_type": "stream",
     "text": [
      "invalid value encountered in double_scalars\n",
      "invalid value encountered in double_scalars\n"
     ]
    },
    {
     "name": "stdout",
     "output_type": "stream",
     "text": [
      "LSCC\n",
      "0 ABL1\n",
      "10 ARID1A\n",
      "20 BCL2\n",
      "30 CDK4\n",
      "40 CSDE1\n"
     ]
    },
    {
     "name": "stderr",
     "output_type": "stream",
     "text": [
      "invalid value encountered in double_scalars\n",
      "invalid value encountered in double_scalars\n",
      "invalid value encountered in double_scalars\n",
      "invalid value encountered in double_scalars\n"
     ]
    },
    {
     "name": "stdout",
     "output_type": "stream",
     "text": [
      "50 EGR3\n",
      "60 FAT1\n"
     ]
    },
    {
     "name": "stderr",
     "output_type": "stream",
     "text": [
      "invalid value encountered in double_scalars\n",
      "invalid value encountered in double_scalars\n",
      "invalid value encountered in double_scalars\n",
      "invalid value encountered in double_scalars\n"
     ]
    },
    {
     "name": "stdout",
     "output_type": "stream",
     "text": [
      "70 GNAQ\n"
     ]
    },
    {
     "name": "stderr",
     "output_type": "stream",
     "text": [
      "invalid value encountered in double_scalars\n",
      "invalid value encountered in double_scalars\n",
      "invalid value encountered in double_scalars\n",
      "invalid value encountered in double_scalars\n",
      "invalid value encountered in double_scalars\n",
      "invalid value encountered in double_scalars\n"
     ]
    },
    {
     "name": "stdout",
     "output_type": "stream",
     "text": [
      "80 IDH1\n",
      "90 KIF1A\n",
      "100 MACF1\n",
      "110 MGMT\n",
      "120 NFE2L2\n",
      "130 PHF6\n"
     ]
    },
    {
     "name": "stderr",
     "output_type": "stream",
     "text": [
      "invalid value encountered in double_scalars\n",
      "invalid value encountered in double_scalars\n"
     ]
    },
    {
     "name": "stdout",
     "output_type": "stream",
     "text": [
      "140 PPP2R1A\n",
      "150 RET\n",
      "160 SETD2\n",
      "170 STK11\n",
      "180 TP53\n",
      "LUAD\n",
      "0 ABL1\n",
      "10 ARID1A\n",
      "20 BCL2\n",
      "30 CDK4\n",
      "40 CSDE1\n"
     ]
    },
    {
     "name": "stderr",
     "output_type": "stream",
     "text": [
      "invalid value encountered in double_scalars\n",
      "invalid value encountered in double_scalars\n",
      "invalid value encountered in double_scalars\n",
      "invalid value encountered in double_scalars\n"
     ]
    },
    {
     "name": "stdout",
     "output_type": "stream",
     "text": [
      "50 EGR3\n",
      "60 FAT1\n"
     ]
    },
    {
     "name": "stderr",
     "output_type": "stream",
     "text": [
      "invalid value encountered in double_scalars\n",
      "invalid value encountered in double_scalars\n"
     ]
    },
    {
     "name": "stdout",
     "output_type": "stream",
     "text": [
      "70 GNAQ\n"
     ]
    },
    {
     "name": "stderr",
     "output_type": "stream",
     "text": [
      "invalid value encountered in double_scalars\n",
      "invalid value encountered in double_scalars\n",
      "invalid value encountered in double_scalars\n",
      "invalid value encountered in double_scalars\n"
     ]
    },
    {
     "name": "stdout",
     "output_type": "stream",
     "text": [
      "80 IDH1\n",
      "90 KIF1A\n",
      "100 MACF1\n",
      "110 MGMT\n"
     ]
    },
    {
     "name": "stderr",
     "output_type": "stream",
     "text": [
      "invalid value encountered in double_scalars\n",
      "invalid value encountered in double_scalars\n"
     ]
    },
    {
     "name": "stdout",
     "output_type": "stream",
     "text": [
      "120 NFE2L2\n",
      "130 PHF6\n"
     ]
    },
    {
     "name": "stderr",
     "output_type": "stream",
     "text": [
      "invalid value encountered in double_scalars\n",
      "invalid value encountered in double_scalars\n"
     ]
    },
    {
     "name": "stdout",
     "output_type": "stream",
     "text": [
      "140 PPP2R1A\n",
      "150 RET\n",
      "160 SETD2\n",
      "170 STK11\n",
      "180 TP53\n"
     ]
    },
    {
     "name": "stderr",
     "output_type": "stream",
     "text": [
      "invalid value encountered in double_scalars\n",
      "invalid value encountered in double_scalars\n"
     ]
    },
    {
     "name": "stdout",
     "output_type": "stream",
     "text": [
      "OV\n",
      "0 ABL1\n"
     ]
    },
    {
     "name": "stderr",
     "output_type": "stream",
     "text": [
      "invalid value encountered in double_scalars\n",
      "invalid value encountered in double_scalars\n"
     ]
    },
    {
     "name": "stdout",
     "output_type": "stream",
     "text": [
      "10 ARID1A\n"
     ]
    },
    {
     "name": "stderr",
     "output_type": "stream",
     "text": [
      "invalid value encountered in double_scalars\n",
      "invalid value encountered in double_scalars\n"
     ]
    },
    {
     "name": "stdout",
     "output_type": "stream",
     "text": [
      "20 BCL2\n"
     ]
    },
    {
     "name": "stderr",
     "output_type": "stream",
     "text": [
      "invalid value encountered in double_scalars\n",
      "invalid value encountered in double_scalars\n",
      "invalid value encountered in double_scalars\n",
      "invalid value encountered in double_scalars\n"
     ]
    },
    {
     "name": "stdout",
     "output_type": "stream",
     "text": [
      "30 CDK4\n"
     ]
    },
    {
     "name": "stderr",
     "output_type": "stream",
     "text": [
      "invalid value encountered in double_scalars\n",
      "invalid value encountered in double_scalars\n",
      "invalid value encountered in double_scalars\n",
      "invalid value encountered in double_scalars\n"
     ]
    },
    {
     "name": "stdout",
     "output_type": "stream",
     "text": [
      "40 CSDE1\n"
     ]
    },
    {
     "name": "stderr",
     "output_type": "stream",
     "text": [
      "invalid value encountered in double_scalars\n",
      "invalid value encountered in double_scalars\n",
      "invalid value encountered in double_scalars\n",
      "invalid value encountered in double_scalars\n",
      "invalid value encountered in double_scalars\n",
      "invalid value encountered in double_scalars\n",
      "invalid value encountered in double_scalars\n",
      "invalid value encountered in double_scalars\n",
      "invalid value encountered in double_scalars\n",
      "invalid value encountered in double_scalars\n",
      "invalid value encountered in double_scalars\n",
      "invalid value encountered in double_scalars\n",
      "invalid value encountered in double_scalars\n",
      "invalid value encountered in double_scalars\n",
      "invalid value encountered in double_scalars\n",
      "invalid value encountered in double_scalars\n"
     ]
    },
    {
     "name": "stdout",
     "output_type": "stream",
     "text": [
      "50 EGR3\n"
     ]
    },
    {
     "name": "stderr",
     "output_type": "stream",
     "text": [
      "invalid value encountered in double_scalars\n",
      "invalid value encountered in double_scalars\n",
      "invalid value encountered in double_scalars\n",
      "invalid value encountered in double_scalars\n",
      "invalid value encountered in double_scalars\n",
      "invalid value encountered in double_scalars\n",
      "invalid value encountered in double_scalars\n",
      "invalid value encountered in double_scalars\n"
     ]
    },
    {
     "name": "stdout",
     "output_type": "stream",
     "text": [
      "60 FAT1\n"
     ]
    },
    {
     "name": "stderr",
     "output_type": "stream",
     "text": [
      "invalid value encountered in double_scalars\n",
      "invalid value encountered in double_scalars\n",
      "invalid value encountered in double_scalars\n",
      "invalid value encountered in double_scalars\n",
      "invalid value encountered in double_scalars\n",
      "invalid value encountered in double_scalars\n",
      "invalid value encountered in double_scalars\n",
      "invalid value encountered in double_scalars\n",
      "invalid value encountered in double_scalars\n",
      "invalid value encountered in double_scalars\n"
     ]
    },
    {
     "name": "stdout",
     "output_type": "stream",
     "text": [
      "70 GNAQ\n"
     ]
    },
    {
     "name": "stderr",
     "output_type": "stream",
     "text": [
      "invalid value encountered in double_scalars\n",
      "invalid value encountered in double_scalars\n",
      "invalid value encountered in double_scalars\n",
      "invalid value encountered in double_scalars\n",
      "invalid value encountered in double_scalars\n",
      "invalid value encountered in double_scalars\n",
      "invalid value encountered in double_scalars\n",
      "invalid value encountered in double_scalars\n",
      "invalid value encountered in double_scalars\n",
      "invalid value encountered in double_scalars\n",
      "invalid value encountered in double_scalars\n",
      "invalid value encountered in double_scalars\n"
     ]
    },
    {
     "name": "stdout",
     "output_type": "stream",
     "text": [
      "80 IDH1\n"
     ]
    },
    {
     "name": "stderr",
     "output_type": "stream",
     "text": [
      "invalid value encountered in double_scalars\n",
      "invalid value encountered in double_scalars\n",
      "invalid value encountered in double_scalars\n",
      "invalid value encountered in double_scalars\n"
     ]
    },
    {
     "name": "stdout",
     "output_type": "stream",
     "text": [
      "90 KIF1A\n"
     ]
    },
    {
     "name": "stderr",
     "output_type": "stream",
     "text": [
      "invalid value encountered in double_scalars\n",
      "invalid value encountered in double_scalars\n",
      "invalid value encountered in double_scalars\n",
      "invalid value encountered in double_scalars\n",
      "invalid value encountered in double_scalars\n",
      "invalid value encountered in double_scalars\n",
      "invalid value encountered in double_scalars\n",
      "invalid value encountered in double_scalars\n",
      "invalid value encountered in double_scalars\n",
      "invalid value encountered in double_scalars\n"
     ]
    },
    {
     "name": "stdout",
     "output_type": "stream",
     "text": [
      "100 MACF1\n",
      "110 MGMT\n"
     ]
    },
    {
     "name": "stderr",
     "output_type": "stream",
     "text": [
      "invalid value encountered in double_scalars\n",
      "invalid value encountered in double_scalars\n",
      "invalid value encountered in double_scalars\n",
      "invalid value encountered in double_scalars\n"
     ]
    },
    {
     "name": "stdout",
     "output_type": "stream",
     "text": [
      "120 NFE2L2\n"
     ]
    },
    {
     "name": "stderr",
     "output_type": "stream",
     "text": [
      "invalid value encountered in double_scalars\n",
      "invalid value encountered in double_scalars\n"
     ]
    },
    {
     "name": "stdout",
     "output_type": "stream",
     "text": [
      "130 PHF6\n"
     ]
    },
    {
     "name": "stderr",
     "output_type": "stream",
     "text": [
      "invalid value encountered in double_scalars\n",
      "invalid value encountered in double_scalars\n"
     ]
    },
    {
     "name": "stdout",
     "output_type": "stream",
     "text": [
      "140 PPP2R1A\n"
     ]
    },
    {
     "name": "stderr",
     "output_type": "stream",
     "text": [
      "invalid value encountered in double_scalars\n",
      "invalid value encountered in double_scalars\n",
      "invalid value encountered in double_scalars\n",
      "invalid value encountered in double_scalars\n",
      "invalid value encountered in double_scalars\n",
      "invalid value encountered in double_scalars\n",
      "invalid value encountered in double_scalars\n",
      "invalid value encountered in double_scalars\n"
     ]
    },
    {
     "name": "stdout",
     "output_type": "stream",
     "text": [
      "150 RET\n"
     ]
    },
    {
     "name": "stderr",
     "output_type": "stream",
     "text": [
      "invalid value encountered in double_scalars\n",
      "invalid value encountered in double_scalars\n",
      "invalid value encountered in double_scalars\n",
      "invalid value encountered in double_scalars\n"
     ]
    },
    {
     "name": "stdout",
     "output_type": "stream",
     "text": [
      "160 SETD2\n"
     ]
    },
    {
     "name": "stderr",
     "output_type": "stream",
     "text": [
      "invalid value encountered in double_scalars\n",
      "invalid value encountered in double_scalars\n",
      "invalid value encountered in double_scalars\n",
      "invalid value encountered in double_scalars\n",
      "invalid value encountered in double_scalars\n",
      "invalid value encountered in double_scalars\n"
     ]
    },
    {
     "name": "stdout",
     "output_type": "stream",
     "text": [
      "170 STK11\n",
      "180 TP53\n"
     ]
    },
    {
     "name": "stderr",
     "output_type": "stream",
     "text": [
      "invalid value encountered in double_scalars\n",
      "invalid value encountered in double_scalars\n",
      "invalid value encountered in double_scalars\n",
      "invalid value encountered in double_scalars\n"
     ]
    },
    {
     "name": "stdout",
     "output_type": "stream",
     "text": [
      "PDA\n",
      "0 ABL1\n",
      "10 ARID1A\n",
      "20 BCL2\n",
      "30 CDK4\n",
      "40 CSDE1\n"
     ]
    },
    {
     "name": "stderr",
     "output_type": "stream",
     "text": [
      "invalid value encountered in double_scalars\n",
      "invalid value encountered in double_scalars\n",
      "invalid value encountered in double_scalars\n",
      "invalid value encountered in double_scalars\n",
      "invalid value encountered in double_scalars\n",
      "invalid value encountered in double_scalars\n"
     ]
    },
    {
     "name": "stdout",
     "output_type": "stream",
     "text": [
      "50 EGR3\n",
      "60 FAT1\n"
     ]
    },
    {
     "name": "stderr",
     "output_type": "stream",
     "text": [
      "invalid value encountered in double_scalars\n",
      "invalid value encountered in double_scalars\n"
     ]
    },
    {
     "name": "stdout",
     "output_type": "stream",
     "text": [
      "70 GNAQ\n"
     ]
    },
    {
     "name": "stderr",
     "output_type": "stream",
     "text": [
      "invalid value encountered in double_scalars\n",
      "invalid value encountered in double_scalars\n",
      "invalid value encountered in double_scalars\n",
      "invalid value encountered in double_scalars\n"
     ]
    },
    {
     "name": "stdout",
     "output_type": "stream",
     "text": [
      "80 IDH1\n"
     ]
    },
    {
     "name": "stderr",
     "output_type": "stream",
     "text": [
      "invalid value encountered in double_scalars\n",
      "invalid value encountered in double_scalars\n"
     ]
    },
    {
     "name": "stdout",
     "output_type": "stream",
     "text": [
      "90 KIF1A\n"
     ]
    },
    {
     "name": "stderr",
     "output_type": "stream",
     "text": [
      "invalid value encountered in double_scalars\n",
      "invalid value encountered in double_scalars\n"
     ]
    },
    {
     "name": "stdout",
     "output_type": "stream",
     "text": [
      "100 MACF1\n",
      "110 MGMT\n"
     ]
    },
    {
     "name": "stderr",
     "output_type": "stream",
     "text": [
      "invalid value encountered in double_scalars\n",
      "invalid value encountered in double_scalars\n"
     ]
    },
    {
     "name": "stdout",
     "output_type": "stream",
     "text": [
      "120 NFE2L2\n",
      "130 PHF6\n"
     ]
    },
    {
     "name": "stderr",
     "output_type": "stream",
     "text": [
      "invalid value encountered in double_scalars\n",
      "invalid value encountered in double_scalars\n"
     ]
    },
    {
     "name": "stdout",
     "output_type": "stream",
     "text": [
      "140 PPP2R1A\n"
     ]
    },
    {
     "name": "stderr",
     "output_type": "stream",
     "text": [
      "invalid value encountered in double_scalars\n",
      "invalid value encountered in double_scalars\n",
      "invalid value encountered in double_scalars\n",
      "invalid value encountered in double_scalars\n"
     ]
    },
    {
     "name": "stdout",
     "output_type": "stream",
     "text": [
      "150 RET\n",
      "160 SETD2\n"
     ]
    },
    {
     "name": "stderr",
     "output_type": "stream",
     "text": [
      "invalid value encountered in double_scalars\n",
      "invalid value encountered in double_scalars\n"
     ]
    },
    {
     "name": "stdout",
     "output_type": "stream",
     "text": [
      "170 STK11\n",
      "180 TP53\n",
      "UCEC\n",
      "0 ABL1\n",
      "10 ARID1A\n",
      "20 BCL2\n",
      "30 CDK4\n",
      "40 CSDE1\n"
     ]
    },
    {
     "name": "stderr",
     "output_type": "stream",
     "text": [
      "invalid value encountered in double_scalars\n",
      "invalid value encountered in double_scalars\n",
      "invalid value encountered in double_scalars\n",
      "invalid value encountered in double_scalars\n",
      "invalid value encountered in double_scalars\n",
      "invalid value encountered in double_scalars\n"
     ]
    },
    {
     "name": "stdout",
     "output_type": "stream",
     "text": [
      "50 EGR3\n",
      "60 FAT1\n"
     ]
    },
    {
     "name": "stderr",
     "output_type": "stream",
     "text": [
      "invalid value encountered in double_scalars\n",
      "invalid value encountered in double_scalars\n"
     ]
    },
    {
     "name": "stdout",
     "output_type": "stream",
     "text": [
      "70 GNAQ\n"
     ]
    },
    {
     "name": "stderr",
     "output_type": "stream",
     "text": [
      "invalid value encountered in double_scalars\n",
      "invalid value encountered in double_scalars\n",
      "invalid value encountered in double_scalars\n",
      "invalid value encountered in double_scalars\n"
     ]
    },
    {
     "name": "stdout",
     "output_type": "stream",
     "text": [
      "80 IDH1\n",
      "90 KIF1A\n",
      "100 MACF1\n",
      "110 MGMT\n",
      "120 NFE2L2\n",
      "130 PHF6\n"
     ]
    },
    {
     "name": "stderr",
     "output_type": "stream",
     "text": [
      "invalid value encountered in double_scalars\n",
      "invalid value encountered in double_scalars\n"
     ]
    },
    {
     "name": "stdout",
     "output_type": "stream",
     "text": [
      "140 PPP2R1A\n"
     ]
    },
    {
     "name": "stderr",
     "output_type": "stream",
     "text": [
      "invalid value encountered in double_scalars\n",
      "invalid value encountered in double_scalars\n"
     ]
    },
    {
     "name": "stdout",
     "output_type": "stream",
     "text": [
      "150 RET\n",
      "160 SETD2\n"
     ]
    },
    {
     "name": "stderr",
     "output_type": "stream",
     "text": [
      "invalid value encountered in double_scalars\n",
      "invalid value encountered in double_scalars\n",
      "invalid value encountered in double_scalars\n",
      "invalid value encountered in double_scalars\n"
     ]
    },
    {
     "name": "stdout",
     "output_type": "stream",
     "text": [
      "170 STK11\n",
      "180 TP53\n"
     ]
    },
    {
     "name": "stderr",
     "output_type": "stream",
     "text": [
      "invalid value encountered in double_scalars\n",
      "invalid value encountered in double_scalars\n"
     ]
    },
    {
     "name": "stdout",
     "output_type": "stream",
     "text": [
      "ccRCC\n",
      "0 ABL1\n",
      "10 ARID1A\n",
      "20 BCL2\n",
      "120 NFE2L2\n",
      "130 PHF6\n"
     ]
    },
    {
     "name": "stderr",
     "output_type": "stream",
     "text": [
      "invalid value encountered in double_scalars\n",
      "invalid value encountered in double_scalars\n"
     ]
    },
    {
     "name": "stdout",
     "output_type": "stream",
     "text": [
      "140 PPP2R1A\n",
      "150 RET\n",
      "160 SETD2\n",
      "170 STK11\n",
      "180 TP53\n"
     ]
    },
    {
     "name": "stderr",
     "output_type": "stream",
     "text": [
      "invalid value encountered in double_scalars\n",
      "invalid value encountered in double_scalars\n"
     ]
    }
   ],
   "source": [
    "results_dict = {}\n",
    "for disease in sorted({x for x in combined['disease'] if not pd.isnull(x)}):\n",
    "    print(disease)\n",
    "    results_dict[disease] = {}\n",
    "    filtered = combined[combined['disease']==disease]\n",
    "    for i, (gene, subgenes) in enumerate(gene_to_subgenes.items()):\n",
    "        if i % 10 == 0:\n",
    "            print(i, gene)\n",
    "        genes = [gene]\n",
    "        genes += subgenes\n",
    "        genes = sorted(set(genes))\n",
    "        for subgene in genes:\n",
    "            X, y = get_data_for_pair(gene, subgene, filtered, features=features,\n",
    "                                    standalone=standalone, target=target, scale_features=scale_features,\n",
    "                                    scale_y=scale_y)\n",
    "            # make sure features have no -\n",
    "            if X is not None and X.shape[0] and '-' not in gene and '-' not in subgene:\n",
    "\n",
    "                X.columns = [c.replace('-', '_') for c in X.columns]\n",
    "                r = run_ols(X.copy(), y.copy())\n",
    "                results_dict[disease][f'{gene}_{subgene}'] = r\n",
    "    \n",
    "            "
   ]
  },
  {
   "cell_type": "markdown",
   "id": "lesser-committee",
   "metadata": {},
   "source": [
    "run this one for phospho\n"
   ]
  },
  {
   "cell_type": "code",
   "execution_count": 54,
   "id": "latter-dating",
   "metadata": {},
   "outputs": [
    {
     "data": {
      "text/plain": [
       "['AHNAK_S93|AHNAK|NP_001333374.1_S93s_1_1_93_93_phospho',\n",
       " 'AHNAK_S135|AHNAK|NP_001333374.1_S135s_1_1_135_135_phospho',\n",
       " 'AHNAK_S216|AHNAK|NP_001333374.1_S216s_1_1_216_216_phospho',\n",
       " 'AHNAK_S379|AHNAK|NP_001333374.1_S379s_1_1_379_379_phospho',\n",
       " 'AHNAK_T490|AHNAK|NP_001333374.1_T490t_1_1_490_490_phospho',\n",
       " 'AHNAK_S511|AHNAK|NP_001333374.1_S511s_1_1_511_511_phospho',\n",
       " 'AHNAK_S819|AHNAK|NP_001333374.1_S819s_1_1_819_819_phospho',\n",
       " 'AHNAK_S886|AHNAK|NP_001333374.1_S886s_1_1_886_886_phospho',\n",
       " 'AHNAK_S1010|AHNAK|NP_001333374.1_S1010s_1_1_1010_1010_phospho',\n",
       " 'AHNAK_S1042|AHNAK|NP_001333374.1_S1042s_1_1_1042_1042_phospho']"
      ]
     },
     "execution_count": 54,
     "metadata": {},
     "output_type": "execute_result"
    }
   ],
   "source": [
    "[x for x in combined.columns if 'phospho' in x][:10]"
   ]
  },
  {
   "cell_type": "code",
   "execution_count": 55,
   "id": "every-collective",
   "metadata": {
    "scrolled": true
   },
   "outputs": [
    {
     "name": "stdout",
     "output_type": "stream",
     "text": [
      "BR\n",
      "0 ABL1\n",
      "10 ARID1A\n",
      "20 BCL2\n",
      "30 CDK4\n",
      "40 CSDE1\n",
      "50 EGR3\n",
      "60 FAT1\n",
      "70 GNAQ\n",
      "80 IDH1\n",
      "90 KIF1A\n",
      "100 MACF1\n",
      "110 MGMT\n",
      "120 NFE2L2\n",
      "130 PHF6\n",
      "140 PPP2R1A\n",
      "150 RET\n",
      "160 SETD2\n",
      "170 STK11\n",
      "180 TP53\n",
      "CO\n",
      "0 ABL1\n",
      "10 ARID1A\n",
      "20 BCL2\n",
      "30 CDK4\n",
      "40 CSDE1\n",
      "50 EGR3\n",
      "60 FAT1\n",
      "70 GNAQ\n",
      "80 IDH1\n",
      "90 KIF1A\n",
      "100 MACF1\n",
      "110 MGMT\n",
      "120 NFE2L2\n",
      "130 PHF6\n",
      "140 PPP2R1A\n",
      "150 RET\n",
      "160 SETD2\n",
      "170 STK11\n",
      "180 TP53\n",
      "GBM\n",
      "0 ABL1\n",
      "10 ARID1A\n",
      "20 BCL2\n",
      "30 CDK4\n",
      "40 CSDE1\n",
      "50 EGR3\n",
      "60 FAT1\n",
      "70 GNAQ\n",
      "100 MACF1\n",
      "110 MGMT\n",
      "120 NFE2L2\n",
      "130 PHF6\n",
      "140 PPP2R1A\n",
      "150 RET\n",
      "160 SETD2\n",
      "170 STK11\n",
      "180 TP53\n",
      "HNSCC\n",
      "0 ABL1\n",
      "10 ARID1A\n",
      "20 BCL2\n",
      "30 CDK4\n",
      "40 CSDE1\n",
      "50 EGR3\n",
      "60 FAT1\n",
      "70 GNAQ\n",
      "80 IDH1\n",
      "90 KIF1A\n",
      "100 MACF1\n",
      "110 MGMT\n",
      "120 NFE2L2\n",
      "130 PHF6\n",
      "140 PPP2R1A\n",
      "150 RET\n",
      "160 SETD2\n",
      "170 STK11\n",
      "180 TP53\n",
      "LSCC\n",
      "0 ABL1\n",
      "10 ARID1A\n",
      "20 BCL2\n",
      "30 CDK4\n",
      "40 CSDE1\n",
      "50 EGR3\n",
      "60 FAT1\n",
      "70 GNAQ\n",
      "80 IDH1\n",
      "90 KIF1A\n",
      "100 MACF1\n",
      "110 MGMT\n",
      "120 NFE2L2\n",
      "130 PHF6\n",
      "140 PPP2R1A\n",
      "150 RET\n",
      "160 SETD2\n",
      "170 STK11\n",
      "180 TP53\n",
      "LUAD\n",
      "0 ABL1\n",
      "10 ARID1A\n",
      "20 BCL2\n",
      "30 CDK4\n",
      "40 CSDE1\n",
      "50 EGR3\n",
      "60 FAT1\n",
      "70 GNAQ\n",
      "80 IDH1\n",
      "90 KIF1A\n",
      "100 MACF1\n",
      "110 MGMT\n",
      "120 NFE2L2\n",
      "130 PHF6\n",
      "140 PPP2R1A\n",
      "150 RET\n",
      "160 SETD2\n",
      "170 STK11\n",
      "180 TP53\n",
      "OV\n",
      "0 ABL1\n",
      "10 ARID1A\n",
      "20 BCL2\n",
      "30 CDK4\n",
      "40 CSDE1\n",
      "50 EGR3\n",
      "60 FAT1\n",
      "70 GNAQ\n",
      "80 IDH1\n",
      "90 KIF1A\n",
      "100 MACF1\n",
      "110 MGMT\n",
      "120 NFE2L2\n",
      "130 PHF6\n",
      "140 PPP2R1A\n",
      "150 RET\n",
      "160 SETD2\n",
      "170 STK11\n",
      "180 TP53\n",
      "PDA\n",
      "0 ABL1\n",
      "10 ARID1A\n",
      "20 BCL2\n",
      "30 CDK4\n",
      "40 CSDE1\n",
      "50 EGR3\n",
      "60 FAT1\n",
      "70 GNAQ\n",
      "80 IDH1\n",
      "90 KIF1A\n",
      "100 MACF1\n",
      "110 MGMT\n",
      "120 NFE2L2\n",
      "130 PHF6\n",
      "140 PPP2R1A\n",
      "150 RET\n",
      "160 SETD2\n",
      "170 STK11\n",
      "180 TP53\n",
      "UCEC\n",
      "0 ABL1\n",
      "10 ARID1A\n",
      "20 BCL2\n",
      "30 CDK4\n",
      "40 CSDE1\n",
      "50 EGR3\n",
      "60 FAT1\n",
      "70 GNAQ\n",
      "80 IDH1\n",
      "90 KIF1A\n",
      "100 MACF1\n",
      "110 MGMT\n",
      "120 NFE2L2\n",
      "130 PHF6\n",
      "140 PPP2R1A\n",
      "150 RET\n",
      "160 SETD2\n",
      "170 STK11\n",
      "180 TP53\n",
      "ccRCC\n",
      "0 ABL1\n",
      "10 ARID1A\n",
      "20 BCL2\n",
      "30 CDK4\n",
      "40 CSDE1\n",
      "50 EGR3\n",
      "60 FAT1\n",
      "70 GNAQ\n",
      "80 IDH1\n",
      "90 KIF1A\n",
      "100 MACF1\n",
      "110 MGMT\n",
      "120 NFE2L2\n",
      "130 PHF6\n",
      "140 PPP2R1A\n",
      "150 RET\n",
      "160 SETD2\n",
      "170 STK11\n",
      "180 TP53\n"
     ]
    }
   ],
   "source": [
    "results_dict = {}\n",
    "x, y = None, None\n",
    "for disease in sorted({x for x in combined['disease'] if not pd.isnull(x)}):\n",
    "    print(disease)\n",
    "    results_dict[disease] = {}\n",
    "    filtered = combined[combined['disease']==disease]\n",
    "    for i, (gene, subgenes) in enumerate(gene_to_subgenes.items()):\n",
    "        if i % 10 == 0:\n",
    "            print(i, gene)\n",
    "        genes = [gene]\n",
    "        genes += subgenes\n",
    "        genes = sorted(set(genes))\n",
    "        for subgene in genes:\n",
    "            sites = ['_'.join(s.split('_')[:-1]) for s in filtered.columns if subgene in s or gene in s]\n",
    "            for site in sites:\n",
    "                X, y = get_data_for_pair(gene, site, filtered, features=features,\n",
    "                                        standalone=standalone, target=target, scale_features=scale_features,\n",
    "                                        scale_y=scale_y)\n",
    "                x, y = (X, y)\n",
    "                if X is not None and y is not None:\n",
    "                    y.columns = [y.columns[0].replace('-', '_').replace(' ', '_').replace('|', '_').replace('.', '_').replace(';', '_')]\n",
    "                if X is not None and X.shape[0] and '-' not in gene and '-' not in subgene:\n",
    "                    X.columns = [c.replace('-', '_') for c in X.columns]\n",
    "#                     print(X.columns, y.columns)\n",
    "                    r = run_ols(X.copy(), y.copy())\n",
    "                    results_dict[disease][f'{gene}_{site}'] = r"
   ]
  },
  {
   "cell_type": "markdown",
   "id": "quality-platinum",
   "metadata": {},
   "source": [
    "adjust p-values"
   ]
  },
  {
   "cell_type": "code",
   "execution_count": 56,
   "id": "intermediate-script",
   "metadata": {},
   "outputs": [
    {
     "name": "stdout",
     "output_type": "stream",
     "text": [
      "BR\n",
      "CO\n",
      "GBM\n",
      "HNSCC\n",
      "LSCC\n",
      "LUAD\n",
      "OV\n",
      "PDA\n",
      "UCEC\n",
      "ccRCC\n"
     ]
    }
   ],
   "source": [
    "# adjust p-values for fdr in both R and coefs\n",
    "import statsmodels\n",
    "for disease, results in results_dict.items():\n",
    "    print(disease)\n",
    "    if results:\n",
    "        keys, ps = zip(*[(k, d['r-squared p-value']) for k, d in results.items()\n",
    "                         if not pd.isnull(d['r-squared p-value'])])\n",
    "        corrected = statsmodels.stats.multitest.fdrcorrection(ps)[1]\n",
    "        for k, c in zip(keys, corrected):\n",
    "            results[k]['r-squared FDR'] = c\n",
    "        for k, d in results.items():\n",
    "            if 'r-squared FDR' not in d:\n",
    "                d['r-squared FDR'] = np.nan\n",
    "\n",
    "        xs, ls, feats = [], [], []\n",
    "        for feat in list(results.values())[0]['features']:\n",
    "            temp_xs, temp_ls = zip(*[(k, d['coef_df'].loc[feat, 'p-value']) for k, d in results.items()\n",
    "                          if feat in d['features']])\n",
    "            xs += temp_xs\n",
    "            ls += temp_ls\n",
    "            feats += [feat] * len(temp_xs)\n",
    "\n",
    "        keys, ps, fts = zip(*[(x, l, f) for x, l, f in zip(xs, ls, feats) if not pd.isnull(l)])\n",
    "        corrected = statsmodels.stats.multitest.fdrcorrection(ps)[1]\n",
    "        for k, c, feat in zip(keys, corrected, fts):\n",
    "            if 'FDR' not in results[k]['coef_df'].columns:\n",
    "                results[k]['coef_df']['FDR'] = np.nan\n",
    "                results[k]['coef_df']['-log10(FDR)'] = np.nan\n",
    "            else:\n",
    "                results[k]['coef_df'].loc[feat, 'FDR'] = c\n",
    "                results[k]['coef_df'].loc[feat, '-log10(FDR)'] = -np.log10(c)\n",
    "\n",
    "    "
   ]
  },
  {
   "cell_type": "code",
   "execution_count": 57,
   "id": "public-royal",
   "metadata": {},
   "outputs": [],
   "source": [
    "# results_dict['BR']['TP53_TP53']['result'].summary()"
   ]
  },
  {
   "cell_type": "code",
   "execution_count": 58,
   "id": "finite-productivity",
   "metadata": {},
   "outputs": [],
   "source": [
    "# results_dict['BR']['TP53_TP53']['coef_df']"
   ]
  },
  {
   "cell_type": "code",
   "execution_count": 59,
   "id": "incomplete-group",
   "metadata": {},
   "outputs": [],
   "source": [
    "import json\n",
    "def save_results_dict(filepath, results_dict):\n",
    "    save_dict = {}\n",
    "    for disease, d in results_dict.items():\n",
    "        save_dict[disease] = {}\n",
    "        for pair, d2 in d.items():\n",
    "            save_dict[disease][pair] = {}\n",
    "            for k, val in d2.items():\n",
    "                if isinstance(val, pd.DataFrame):\n",
    "                    save_dict[disease][pair][k] = val.to_dict()\n",
    "                elif 'numpy.ndarray' in str(type(val)) and val.size<=1 and np.isnan(val):\n",
    "                    save_dict[disease][pair][k] = None\n",
    "                elif 'numpy.ndarray' in str(type(val)):\n",
    "#                     print(val, str(type(val)), val.size)\n",
    "                    if len(val):\n",
    "                        save_dict[disease][pair][k] = [float(v) for v in val]\n",
    "                elif 'numpy.float' in str(type(val)):\n",
    "                    save_dict[disease][pair][k] = float(val)\n",
    "                elif isinstance(val, statsmodels.regression.linear_model.RegressionResultsWrapper):\n",
    "                    pass\n",
    "                else:\n",
    "                    save_dict[disease][pair][k] = val\n",
    "    json.dump(save_dict, open(filepath, 'w'))\n",
    "    \n",
    "def load_results_dict(filepath):\n",
    "    loaded = json.load(open(filepath))\n",
    "    results_dict = {}\n",
    "    for disease, d in loaded.items():\n",
    "        results_dict[disease] = {}\n",
    "        for pair, d2 in d.items():\n",
    "            results_dict[disease][pair] = {}\n",
    "            for k, val in d2.items():\n",
    "                if k in ['coef_df', 'X', 'y']:\n",
    "                    results_dict[disease][pair][k] = pd.DataFrame.from_dict(val)\n",
    "                elif k in ['groundtruth', 'predicted', 'features']:\n",
    "                    results_dict[disease][pair][k] = np.asarray(val)\n",
    "                else:\n",
    "                    results_dict[disease][pair][k] = val\n",
    "    return results_dict"
   ]
  },
  {
   "cell_type": "code",
   "execution_count": 60,
   "id": "statistical-screw",
   "metadata": {},
   "outputs": [
    {
     "data": {
      "text/plain": [
       "'../results/01282021_new/som_germ_cnv_pur_target_phospho'"
      ]
     },
     "execution_count": 60,
     "metadata": {},
     "output_type": "execute_result"
    }
   ],
   "source": [
    "run_dir = os.path.join(result_dir, f'som_germ_cnv_pur_target_{target}')\n",
    "Path(run_dir).mkdir(exist_ok=True, parents=True)\n",
    "run_dir"
   ]
  },
  {
   "cell_type": "code",
   "execution_count": 61,
   "id": "meaning-filling",
   "metadata": {},
   "outputs": [],
   "source": [
    "filepath = os.path.join(run_dir, 'results.json')\n",
    "save_results_dict(filepath, results_dict)"
   ]
  },
  {
   "cell_type": "code",
   "execution_count": 62,
   "id": "surprised-oriental",
   "metadata": {},
   "outputs": [],
   "source": [
    "# also save metadata\n",
    "summary = {\n",
    "    'features': features,\n",
    "    'standalone': standalone,\n",
    "    'target': target,\n",
    "    'scale_features': scale_features,\n",
    "    'scale_target': scale_y,\n",
    "    'input_source': combined_fp,\n",
    "}\n",
    "json.dump(summary, open(os.path.join(run_dir, 'summary.json'), 'w'))"
   ]
  },
  {
   "cell_type": "code",
   "execution_count": 63,
   "id": "local-trustee",
   "metadata": {},
   "outputs": [],
   "source": [
    "def get_master_coef_df(results_dict):\n",
    "    master_coef_dict = None\n",
    "    for disease, results in results_dict.items():\n",
    "        for k, r in results.items():\n",
    "            pieces = k.split('_')[0], '_'.join(k.split('_')[1:])\n",
    "            driver, subgene = pieces\n",
    "            n = r['coef_df'].shape[0]-1\n",
    "            df_dict = r['coef_df'].iloc[1:, :].to_dict()\n",
    "            order = r['coef_df'].index[1:].to_list()\n",
    "            for k, v in df_dict.items():\n",
    "                df_dict[k] = [v[o] for o in order]\n",
    "            df_dict['feature'] = order\n",
    "\n",
    "            # replace 1. fdr with np.nan\n",
    "            if 'FDR' in df_dict:\n",
    "                df_dict['FDR'] = [np.nan if pd.isnull(p) else x\n",
    "                                  for p, x in zip(df_dict['p-value'], df_dict['FDR'])]\n",
    "                df_dict['-log10(FDR)'] = [np.nan if pd.isnull(p) else x\n",
    "                                          for p, x in zip(df_dict['p-value'], df_dict['-log10(FDR)'])]\n",
    "            else:\n",
    "                df_dict['FDR'] = [np.nan for i in range(n)]\n",
    "                df_dict['-log10(FDR)'] = [np.nan for i in range(n)]\n",
    "                \n",
    "            df_dict['driver'] = [driver for i in range(n)]\n",
    "            df_dict['target'] = [subgene for i in range(n)]\n",
    "            df_dict['disease'] = [disease for i in range(n)]\n",
    "            df_dict['model_r2'] = [r['r-squared'] for i in range(n)]\n",
    "            df_dict['model_r2_FDR'] = [r['r-squared FDR'] for i in range(n)]\n",
    "\n",
    "            if master_coef_dict is None:\n",
    "                master_coef_dict = df_dict\n",
    "            else:\n",
    "                for k in master_coef_dict.keys():\n",
    "                    master_coef_dict[k] += df_dict[k]\n",
    "    master_coef_df = pd.DataFrame.from_dict(master_coef_dict)     \n",
    "    master_coef_df.index = np.arange(master_coef_df.shape[0])\n",
    "    \n",
    "    return master_coef_df"
   ]
  },
  {
   "cell_type": "code",
   "execution_count": 64,
   "id": "surrounded-movie",
   "metadata": {},
   "outputs": [],
   "source": [
    "master_coef_df = get_master_coef_df(results_dict)\n",
    "master_coef_df.to_csv(os.path.join(run_dir, 'coef_results.txt'), sep='\\t', index=False)"
   ]
  },
  {
   "cell_type": "code",
   "execution_count": 65,
   "id": "private-penguin",
   "metadata": {},
   "outputs": [
    {
     "data": {
      "text/html": [
       "<div>\n",
       "<style scoped>\n",
       "    .dataframe tbody tr th:only-of-type {\n",
       "        vertical-align: middle;\n",
       "    }\n",
       "\n",
       "    .dataframe tbody tr th {\n",
       "        vertical-align: top;\n",
       "    }\n",
       "\n",
       "    .dataframe thead th {\n",
       "        text-align: right;\n",
       "    }\n",
       "</style>\n",
       "<table border=\"1\" class=\"dataframe\">\n",
       "  <thead>\n",
       "    <tr style=\"text-align: right;\">\n",
       "      <th></th>\n",
       "      <th>coef</th>\n",
       "      <th>p-value</th>\n",
       "      <th>FDR</th>\n",
       "      <th>-log10(FDR)</th>\n",
       "      <th>feature</th>\n",
       "      <th>driver</th>\n",
       "      <th>target</th>\n",
       "      <th>disease</th>\n",
       "      <th>model_r2</th>\n",
       "      <th>model_r2_FDR</th>\n",
       "    </tr>\n",
       "  </thead>\n",
       "  <tbody>\n",
       "    <tr>\n",
       "      <th>0</th>\n",
       "      <td>0.164722</td>\n",
       "      <td>2.607030e-06</td>\n",
       "      <td>8.035901e-06</td>\n",
       "      <td>5.094965</td>\n",
       "      <td>driver_gene_cnv</td>\n",
       "      <td>ABL1</td>\n",
       "      <td>ABL1_S588|ABL1|NP_009297.2_S588s_1_1_588_588</td>\n",
       "      <td>BR</td>\n",
       "      <td>0.090911</td>\n",
       "      <td>7.853147e-08</td>\n",
       "    </tr>\n",
       "    <tr>\n",
       "      <th>1</th>\n",
       "      <td>0.135048</td>\n",
       "      <td>1.340333e-04</td>\n",
       "      <td>3.421983e-04</td>\n",
       "      <td>3.465722</td>\n",
       "      <td>TumorPurity</td>\n",
       "      <td>ABL1</td>\n",
       "      <td>ABL1_S588|ABL1|NP_009297.2_S588s_1_1_588_588</td>\n",
       "      <td>BR</td>\n",
       "      <td>0.090911</td>\n",
       "      <td>7.853147e-08</td>\n",
       "    </tr>\n",
       "    <tr>\n",
       "      <th>2</th>\n",
       "      <td>0.698709</td>\n",
       "      <td>9.974332e-03</td>\n",
       "      <td>1.878631e-02</td>\n",
       "      <td>1.726159</td>\n",
       "      <td>driver_gene_has_nonsilent_mutation</td>\n",
       "      <td>ABL1</td>\n",
       "      <td>ABL1_S588|ABL1|NP_009297.2_S588s_1_1_588_588</td>\n",
       "      <td>BR</td>\n",
       "      <td>0.090911</td>\n",
       "      <td>7.853147e-08</td>\n",
       "    </tr>\n",
       "    <tr>\n",
       "      <th>3</th>\n",
       "      <td>0.176910</td>\n",
       "      <td>1.273530e-05</td>\n",
       "      <td>3.663727e-05</td>\n",
       "      <td>4.436077</td>\n",
       "      <td>driver_gene_cnv</td>\n",
       "      <td>ABL1</td>\n",
       "      <td>ABL1_T871|ABL1|NP_009297.2_T871t_1_1_871_871</td>\n",
       "      <td>BR</td>\n",
       "      <td>0.053451</td>\n",
       "      <td>6.982833e-05</td>\n",
       "    </tr>\n",
       "    <tr>\n",
       "      <th>4</th>\n",
       "      <td>-0.013966</td>\n",
       "      <td>7.307202e-01</td>\n",
       "      <td>7.850275e-01</td>\n",
       "      <td>0.105115</td>\n",
       "      <td>TumorPurity</td>\n",
       "      <td>ABL1</td>\n",
       "      <td>ABL1_T871|ABL1|NP_009297.2_T871t_1_1_871_871</td>\n",
       "      <td>BR</td>\n",
       "      <td>0.053451</td>\n",
       "      <td>6.982833e-05</td>\n",
       "    </tr>\n",
       "    <tr>\n",
       "      <th>...</th>\n",
       "      <td>...</td>\n",
       "      <td>...</td>\n",
       "      <td>...</td>\n",
       "      <td>...</td>\n",
       "      <td>...</td>\n",
       "      <td>...</td>\n",
       "      <td>...</td>\n",
       "      <td>...</td>\n",
       "      <td>...</td>\n",
       "      <td>...</td>\n",
       "    </tr>\n",
       "    <tr>\n",
       "      <th>503545</th>\n",
       "      <td>0.046613</td>\n",
       "      <td>1.907153e-01</td>\n",
       "      <td>2.474452e-01</td>\n",
       "      <td>0.606521</td>\n",
       "      <td>driver_gene_cnv</td>\n",
       "      <td>ZNF750</td>\n",
       "      <td>ZNF740_S44|ZNF740|NP_001004304.1_S44s_1_1_44_44</td>\n",
       "      <td>ccRCC</td>\n",
       "      <td>0.043374</td>\n",
       "      <td>3.883592e-04</td>\n",
       "    </tr>\n",
       "    <tr>\n",
       "      <th>503546</th>\n",
       "      <td>0.722028</td>\n",
       "      <td>5.261574e-02</td>\n",
       "      <td>7.809862e-02</td>\n",
       "      <td>1.107357</td>\n",
       "      <td>driver_gene_has_nonsilent_mutation</td>\n",
       "      <td>ZNF750</td>\n",
       "      <td>ZNF740_S44|ZNF740|NP_001004304.1_S44s_1_1_44_44</td>\n",
       "      <td>ccRCC</td>\n",
       "      <td>0.043374</td>\n",
       "      <td>3.883592e-04</td>\n",
       "    </tr>\n",
       "    <tr>\n",
       "      <th>503547</th>\n",
       "      <td>0.318029</td>\n",
       "      <td>6.391262e-19</td>\n",
       "      <td>3.510270e-18</td>\n",
       "      <td>17.454659</td>\n",
       "      <td>TumorPurity</td>\n",
       "      <td>ZNF750</td>\n",
       "      <td>ZNF777_S604|ZNF777|NP_056509.2_S604s_1_1_604_604</td>\n",
       "      <td>ccRCC</td>\n",
       "      <td>0.207376</td>\n",
       "      <td>5.060838e-18</td>\n",
       "    </tr>\n",
       "    <tr>\n",
       "      <th>503548</th>\n",
       "      <td>-0.011898</td>\n",
       "      <td>7.605060e-01</td>\n",
       "      <td>8.045909e-01</td>\n",
       "      <td>0.094425</td>\n",
       "      <td>driver_gene_cnv</td>\n",
       "      <td>ZNF750</td>\n",
       "      <td>ZNF777_S604|ZNF777|NP_056509.2_S604s_1_1_604_604</td>\n",
       "      <td>ccRCC</td>\n",
       "      <td>0.207376</td>\n",
       "      <td>5.060838e-18</td>\n",
       "    </tr>\n",
       "    <tr>\n",
       "      <th>503549</th>\n",
       "      <td>0.943310</td>\n",
       "      <td>2.112442e-02</td>\n",
       "      <td>3.393108e-02</td>\n",
       "      <td>1.469402</td>\n",
       "      <td>driver_gene_has_nonsilent_mutation</td>\n",
       "      <td>ZNF750</td>\n",
       "      <td>ZNF777_S604|ZNF777|NP_056509.2_S604s_1_1_604_604</td>\n",
       "      <td>ccRCC</td>\n",
       "      <td>0.207376</td>\n",
       "      <td>5.060838e-18</td>\n",
       "    </tr>\n",
       "  </tbody>\n",
       "</table>\n",
       "<p>503550 rows × 10 columns</p>\n",
       "</div>"
      ],
      "text/plain": [
       "            coef       p-value           FDR  -log10(FDR)  \\\n",
       "0       0.164722  2.607030e-06  8.035901e-06     5.094965   \n",
       "1       0.135048  1.340333e-04  3.421983e-04     3.465722   \n",
       "2       0.698709  9.974332e-03  1.878631e-02     1.726159   \n",
       "3       0.176910  1.273530e-05  3.663727e-05     4.436077   \n",
       "4      -0.013966  7.307202e-01  7.850275e-01     0.105115   \n",
       "...          ...           ...           ...          ...   \n",
       "503545  0.046613  1.907153e-01  2.474452e-01     0.606521   \n",
       "503546  0.722028  5.261574e-02  7.809862e-02     1.107357   \n",
       "503547  0.318029  6.391262e-19  3.510270e-18    17.454659   \n",
       "503548 -0.011898  7.605060e-01  8.045909e-01     0.094425   \n",
       "503549  0.943310  2.112442e-02  3.393108e-02     1.469402   \n",
       "\n",
       "                                   feature  driver  \\\n",
       "0                          driver_gene_cnv    ABL1   \n",
       "1                              TumorPurity    ABL1   \n",
       "2       driver_gene_has_nonsilent_mutation    ABL1   \n",
       "3                          driver_gene_cnv    ABL1   \n",
       "4                              TumorPurity    ABL1   \n",
       "...                                    ...     ...   \n",
       "503545                     driver_gene_cnv  ZNF750   \n",
       "503546  driver_gene_has_nonsilent_mutation  ZNF750   \n",
       "503547                         TumorPurity  ZNF750   \n",
       "503548                     driver_gene_cnv  ZNF750   \n",
       "503549  driver_gene_has_nonsilent_mutation  ZNF750   \n",
       "\n",
       "                                                  target disease  model_r2  \\\n",
       "0           ABL1_S588|ABL1|NP_009297.2_S588s_1_1_588_588      BR  0.090911   \n",
       "1           ABL1_S588|ABL1|NP_009297.2_S588s_1_1_588_588      BR  0.090911   \n",
       "2           ABL1_S588|ABL1|NP_009297.2_S588s_1_1_588_588      BR  0.090911   \n",
       "3           ABL1_T871|ABL1|NP_009297.2_T871t_1_1_871_871      BR  0.053451   \n",
       "4           ABL1_T871|ABL1|NP_009297.2_T871t_1_1_871_871      BR  0.053451   \n",
       "...                                                  ...     ...       ...   \n",
       "503545   ZNF740_S44|ZNF740|NP_001004304.1_S44s_1_1_44_44   ccRCC  0.043374   \n",
       "503546   ZNF740_S44|ZNF740|NP_001004304.1_S44s_1_1_44_44   ccRCC  0.043374   \n",
       "503547  ZNF777_S604|ZNF777|NP_056509.2_S604s_1_1_604_604   ccRCC  0.207376   \n",
       "503548  ZNF777_S604|ZNF777|NP_056509.2_S604s_1_1_604_604   ccRCC  0.207376   \n",
       "503549  ZNF777_S604|ZNF777|NP_056509.2_S604s_1_1_604_604   ccRCC  0.207376   \n",
       "\n",
       "        model_r2_FDR  \n",
       "0       7.853147e-08  \n",
       "1       7.853147e-08  \n",
       "2       7.853147e-08  \n",
       "3       6.982833e-05  \n",
       "4       6.982833e-05  \n",
       "...              ...  \n",
       "503545  3.883592e-04  \n",
       "503546  3.883592e-04  \n",
       "503547  5.060838e-18  \n",
       "503548  5.060838e-18  \n",
       "503549  5.060838e-18  \n",
       "\n",
       "[503550 rows x 10 columns]"
      ]
     },
     "execution_count": 65,
     "metadata": {},
     "output_type": "execute_result"
    }
   ],
   "source": [
    "master_coef_df"
   ]
  },
  {
   "cell_type": "code",
   "execution_count": null,
   "id": "resistant-fruit",
   "metadata": {},
   "outputs": [],
   "source": []
  }
 ],
 "metadata": {
  "kernelspec": {
   "display_name": "Python 3",
   "language": "python",
   "name": "python3"
  },
  "language_info": {
   "codemirror_mode": {
    "name": "ipython",
    "version": 3
   },
   "file_extension": ".py",
   "mimetype": "text/x-python",
   "name": "python",
   "nbconvert_exporter": "python",
   "pygments_lexer": "ipython3",
   "version": "3.7.10"
  }
 },
 "nbformat": 4,
 "nbformat_minor": 5
}
